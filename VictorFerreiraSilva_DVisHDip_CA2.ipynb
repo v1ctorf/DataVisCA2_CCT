{
 "cells": [
  {
   "cell_type": "code",
   "execution_count": 71,
   "id": "3394faf0",
   "metadata": {},
   "outputs": [],
   "source": [
    "import warnings\n",
    "warnings.filterwarnings('ignore')\n",
    "\n",
    "import pandas as pd\n",
    "import numpy as np\n",
    "import matplotlib.pyplot as plt\n",
    "import seaborn as sns\n",
    "\n",
    "from sklearn.model_selection import train_test_split\n",
    "from imblearn.under_sampling import RandomUnderSampler\n",
    "\n",
    "import plotly.express as px\n",
    "import plotly.graph_objects as go"
   ]
  },
  {
   "cell_type": "code",
   "execution_count": 2,
   "id": "173db95b",
   "metadata": {},
   "outputs": [
    {
     "data": {
      "text/html": [
       "<div>\n",
       "<style scoped>\n",
       "    .dataframe tbody tr th:only-of-type {\n",
       "        vertical-align: middle;\n",
       "    }\n",
       "\n",
       "    .dataframe tbody tr th {\n",
       "        vertical-align: top;\n",
       "    }\n",
       "\n",
       "    .dataframe thead th {\n",
       "        text-align: right;\n",
       "    }\n",
       "</style>\n",
       "<table border=\"1\" class=\"dataframe\">\n",
       "  <thead>\n",
       "    <tr style=\"text-align: right;\">\n",
       "      <th></th>\n",
       "      <th>Record_ID</th>\n",
       "      <th>Auction_ID</th>\n",
       "      <th>Bidder_ID</th>\n",
       "      <th>Bidder_Tendency</th>\n",
       "      <th>Bidding_Ratio</th>\n",
       "      <th>Successive_Outbidding</th>\n",
       "      <th>Last_Bidding</th>\n",
       "      <th>Auction_Bids</th>\n",
       "      <th>Starting_Price_Average</th>\n",
       "      <th>Early_Bidding</th>\n",
       "      <th>Winning_Ratio</th>\n",
       "      <th>Auction_Duration</th>\n",
       "      <th>Class</th>\n",
       "    </tr>\n",
       "  </thead>\n",
       "  <tbody>\n",
       "    <tr>\n",
       "      <th>0</th>\n",
       "      <td>1</td>\n",
       "      <td>732</td>\n",
       "      <td>_***i</td>\n",
       "      <td>0.200000</td>\n",
       "      <td>0.400000</td>\n",
       "      <td>0.0</td>\n",
       "      <td>0.000028</td>\n",
       "      <td>0.0</td>\n",
       "      <td>0.993593</td>\n",
       "      <td>0.000028</td>\n",
       "      <td>0.666667</td>\n",
       "      <td>5</td>\n",
       "      <td>0</td>\n",
       "    </tr>\n",
       "    <tr>\n",
       "      <th>1</th>\n",
       "      <td>2</td>\n",
       "      <td>732</td>\n",
       "      <td>g***r</td>\n",
       "      <td>0.024390</td>\n",
       "      <td>0.200000</td>\n",
       "      <td>0.0</td>\n",
       "      <td>0.013123</td>\n",
       "      <td>0.0</td>\n",
       "      <td>0.993593</td>\n",
       "      <td>0.013123</td>\n",
       "      <td>0.944444</td>\n",
       "      <td>5</td>\n",
       "      <td>0</td>\n",
       "    </tr>\n",
       "    <tr>\n",
       "      <th>2</th>\n",
       "      <td>3</td>\n",
       "      <td>732</td>\n",
       "      <td>t***p</td>\n",
       "      <td>0.142857</td>\n",
       "      <td>0.200000</td>\n",
       "      <td>0.0</td>\n",
       "      <td>0.003042</td>\n",
       "      <td>0.0</td>\n",
       "      <td>0.993593</td>\n",
       "      <td>0.003042</td>\n",
       "      <td>1.000000</td>\n",
       "      <td>5</td>\n",
       "      <td>0</td>\n",
       "    </tr>\n",
       "    <tr>\n",
       "      <th>3</th>\n",
       "      <td>4</td>\n",
       "      <td>732</td>\n",
       "      <td>7***n</td>\n",
       "      <td>0.100000</td>\n",
       "      <td>0.200000</td>\n",
       "      <td>0.0</td>\n",
       "      <td>0.097477</td>\n",
       "      <td>0.0</td>\n",
       "      <td>0.993593</td>\n",
       "      <td>0.097477</td>\n",
       "      <td>1.000000</td>\n",
       "      <td>5</td>\n",
       "      <td>0</td>\n",
       "    </tr>\n",
       "    <tr>\n",
       "      <th>4</th>\n",
       "      <td>5</td>\n",
       "      <td>900</td>\n",
       "      <td>z***z</td>\n",
       "      <td>0.051282</td>\n",
       "      <td>0.222222</td>\n",
       "      <td>0.0</td>\n",
       "      <td>0.001318</td>\n",
       "      <td>0.0</td>\n",
       "      <td>0.000000</td>\n",
       "      <td>0.001242</td>\n",
       "      <td>0.500000</td>\n",
       "      <td>7</td>\n",
       "      <td>0</td>\n",
       "    </tr>\n",
       "  </tbody>\n",
       "</table>\n",
       "</div>"
      ],
      "text/plain": [
       "   Record_ID  Auction_ID Bidder_ID  Bidder_Tendency  Bidding_Ratio  \\\n",
       "0          1         732     _***i         0.200000       0.400000   \n",
       "1          2         732     g***r         0.024390       0.200000   \n",
       "2          3         732     t***p         0.142857       0.200000   \n",
       "3          4         732     7***n         0.100000       0.200000   \n",
       "4          5         900     z***z         0.051282       0.222222   \n",
       "\n",
       "   Successive_Outbidding  Last_Bidding  Auction_Bids  Starting_Price_Average  \\\n",
       "0                    0.0      0.000028           0.0                0.993593   \n",
       "1                    0.0      0.013123           0.0                0.993593   \n",
       "2                    0.0      0.003042           0.0                0.993593   \n",
       "3                    0.0      0.097477           0.0                0.993593   \n",
       "4                    0.0      0.001318           0.0                0.000000   \n",
       "\n",
       "   Early_Bidding  Winning_Ratio  Auction_Duration  Class  \n",
       "0       0.000028       0.666667                 5      0  \n",
       "1       0.013123       0.944444                 5      0  \n",
       "2       0.003042       1.000000                 5      0  \n",
       "3       0.097477       1.000000                 5      0  \n",
       "4       0.001242       0.500000                 7      0  "
      ]
     },
     "execution_count": 2,
     "metadata": {},
     "output_type": "execute_result"
    }
   ],
   "source": [
    "# loading the original dataset with pandas\n",
    "df = pd.read_csv('Shill Bidding Dataset.csv')\n",
    "\n",
    "# presenting the first five lines\n",
    "df.head(5)"
   ]
  },
  {
   "cell_type": "code",
   "execution_count": 23,
   "id": "c48b51ee",
   "metadata": {},
   "outputs": [
    {
     "name": "stdout",
     "output_type": "stream",
     "text": [
      "<class 'pandas.core.frame.DataFrame'>\n",
      "RangeIndex: 6321 entries, 0 to 6320\n",
      "Data columns (total 13 columns):\n",
      " #   Column                  Non-Null Count  Dtype  \n",
      "---  ------                  --------------  -----  \n",
      " 0   Record_ID               6321 non-null   int64  \n",
      " 1   Auction_ID              6321 non-null   int64  \n",
      " 2   Bidder_ID               6321 non-null   object \n",
      " 3   Bidder_Tendency         6321 non-null   float64\n",
      " 4   Bidding_Ratio           6321 non-null   float64\n",
      " 5   Successive_Outbidding   6321 non-null   float64\n",
      " 6   Last_Bidding            6321 non-null   float64\n",
      " 7   Auction_Bids            6321 non-null   float64\n",
      " 8   Starting_Price_Average  6321 non-null   float64\n",
      " 9   Early_Bidding           6321 non-null   float64\n",
      " 10  Winning_Ratio           6321 non-null   float64\n",
      " 11  Auction_Duration        6321 non-null   int64  \n",
      " 12  Class                   6321 non-null   int64  \n",
      "dtypes: float64(8), int64(4), object(1)\n",
      "memory usage: 642.1+ KB\n"
     ]
    }
   ],
   "source": [
    "df.info()"
   ]
  },
  {
   "cell_type": "code",
   "execution_count": 35,
   "id": "a24379b8",
   "metadata": {},
   "outputs": [
    {
     "data": {
      "text/html": [
       "<div>\n",
       "<style scoped>\n",
       "    .dataframe tbody tr th:only-of-type {\n",
       "        vertical-align: middle;\n",
       "    }\n",
       "\n",
       "    .dataframe tbody tr th {\n",
       "        vertical-align: top;\n",
       "    }\n",
       "\n",
       "    .dataframe thead th {\n",
       "        text-align: right;\n",
       "    }\n",
       "</style>\n",
       "<table border=\"1\" class=\"dataframe\">\n",
       "  <thead>\n",
       "    <tr style=\"text-align: right;\">\n",
       "      <th></th>\n",
       "      <th>Record_ID</th>\n",
       "      <th>Auction_ID</th>\n",
       "      <th>Bidder_Tendency</th>\n",
       "      <th>Bidding_Ratio</th>\n",
       "      <th>Successive_Outbidding</th>\n",
       "      <th>Last_Bidding</th>\n",
       "      <th>Auction_Bids</th>\n",
       "      <th>Starting_Price_Average</th>\n",
       "      <th>Early_Bidding</th>\n",
       "      <th>Winning_Ratio</th>\n",
       "      <th>Auction_Duration</th>\n",
       "      <th>Class</th>\n",
       "    </tr>\n",
       "  </thead>\n",
       "  <tbody>\n",
       "    <tr>\n",
       "      <th>count</th>\n",
       "      <td>6321.000000</td>\n",
       "      <td>6321.000000</td>\n",
       "      <td>6321.000000</td>\n",
       "      <td>6321.000000</td>\n",
       "      <td>6321.000000</td>\n",
       "      <td>6321.000000</td>\n",
       "      <td>6321.000000</td>\n",
       "      <td>6321.000000</td>\n",
       "      <td>6321.000000</td>\n",
       "      <td>6321.000000</td>\n",
       "      <td>6321.000000</td>\n",
       "      <td>6321.000000</td>\n",
       "    </tr>\n",
       "    <tr>\n",
       "      <th>mean</th>\n",
       "      <td>7535.829457</td>\n",
       "      <td>1241.388230</td>\n",
       "      <td>0.142541</td>\n",
       "      <td>0.127670</td>\n",
       "      <td>0.103781</td>\n",
       "      <td>0.463119</td>\n",
       "      <td>0.231606</td>\n",
       "      <td>0.472821</td>\n",
       "      <td>0.430683</td>\n",
       "      <td>0.367731</td>\n",
       "      <td>4.615093</td>\n",
       "      <td>0.106787</td>\n",
       "    </tr>\n",
       "    <tr>\n",
       "      <th>std</th>\n",
       "      <td>4364.759137</td>\n",
       "      <td>735.770789</td>\n",
       "      <td>0.197084</td>\n",
       "      <td>0.131530</td>\n",
       "      <td>0.279698</td>\n",
       "      <td>0.380097</td>\n",
       "      <td>0.255252</td>\n",
       "      <td>0.489912</td>\n",
       "      <td>0.380785</td>\n",
       "      <td>0.436573</td>\n",
       "      <td>2.466629</td>\n",
       "      <td>0.308867</td>\n",
       "    </tr>\n",
       "    <tr>\n",
       "      <th>min</th>\n",
       "      <td>1.000000</td>\n",
       "      <td>5.000000</td>\n",
       "      <td>0.000000</td>\n",
       "      <td>0.011765</td>\n",
       "      <td>0.000000</td>\n",
       "      <td>0.000000</td>\n",
       "      <td>0.000000</td>\n",
       "      <td>0.000000</td>\n",
       "      <td>0.000000</td>\n",
       "      <td>0.000000</td>\n",
       "      <td>1.000000</td>\n",
       "      <td>0.000000</td>\n",
       "    </tr>\n",
       "    <tr>\n",
       "      <th>25%</th>\n",
       "      <td>3778.000000</td>\n",
       "      <td>589.000000</td>\n",
       "      <td>0.027027</td>\n",
       "      <td>0.043478</td>\n",
       "      <td>0.000000</td>\n",
       "      <td>0.047928</td>\n",
       "      <td>0.000000</td>\n",
       "      <td>0.000000</td>\n",
       "      <td>0.026620</td>\n",
       "      <td>0.000000</td>\n",
       "      <td>3.000000</td>\n",
       "      <td>0.000000</td>\n",
       "    </tr>\n",
       "    <tr>\n",
       "      <th>50%</th>\n",
       "      <td>7591.000000</td>\n",
       "      <td>1246.000000</td>\n",
       "      <td>0.062500</td>\n",
       "      <td>0.083333</td>\n",
       "      <td>0.000000</td>\n",
       "      <td>0.440937</td>\n",
       "      <td>0.142857</td>\n",
       "      <td>0.000000</td>\n",
       "      <td>0.360104</td>\n",
       "      <td>0.000000</td>\n",
       "      <td>5.000000</td>\n",
       "      <td>0.000000</td>\n",
       "    </tr>\n",
       "    <tr>\n",
       "      <th>75%</th>\n",
       "      <td>11277.000000</td>\n",
       "      <td>1867.000000</td>\n",
       "      <td>0.166667</td>\n",
       "      <td>0.166667</td>\n",
       "      <td>0.000000</td>\n",
       "      <td>0.860363</td>\n",
       "      <td>0.454545</td>\n",
       "      <td>0.993593</td>\n",
       "      <td>0.826761</td>\n",
       "      <td>0.851852</td>\n",
       "      <td>7.000000</td>\n",
       "      <td>0.000000</td>\n",
       "    </tr>\n",
       "    <tr>\n",
       "      <th>max</th>\n",
       "      <td>15144.000000</td>\n",
       "      <td>2538.000000</td>\n",
       "      <td>1.000000</td>\n",
       "      <td>1.000000</td>\n",
       "      <td>1.000000</td>\n",
       "      <td>0.999900</td>\n",
       "      <td>0.788235</td>\n",
       "      <td>0.999935</td>\n",
       "      <td>0.999900</td>\n",
       "      <td>1.000000</td>\n",
       "      <td>10.000000</td>\n",
       "      <td>1.000000</td>\n",
       "    </tr>\n",
       "  </tbody>\n",
       "</table>\n",
       "</div>"
      ],
      "text/plain": [
       "          Record_ID   Auction_ID  Bidder_Tendency  Bidding_Ratio  \\\n",
       "count   6321.000000  6321.000000      6321.000000    6321.000000   \n",
       "mean    7535.829457  1241.388230         0.142541       0.127670   \n",
       "std     4364.759137   735.770789         0.197084       0.131530   \n",
       "min        1.000000     5.000000         0.000000       0.011765   \n",
       "25%     3778.000000   589.000000         0.027027       0.043478   \n",
       "50%     7591.000000  1246.000000         0.062500       0.083333   \n",
       "75%    11277.000000  1867.000000         0.166667       0.166667   \n",
       "max    15144.000000  2538.000000         1.000000       1.000000   \n",
       "\n",
       "       Successive_Outbidding  Last_Bidding  Auction_Bids  \\\n",
       "count            6321.000000   6321.000000   6321.000000   \n",
       "mean                0.103781      0.463119      0.231606   \n",
       "std                 0.279698      0.380097      0.255252   \n",
       "min                 0.000000      0.000000      0.000000   \n",
       "25%                 0.000000      0.047928      0.000000   \n",
       "50%                 0.000000      0.440937      0.142857   \n",
       "75%                 0.000000      0.860363      0.454545   \n",
       "max                 1.000000      0.999900      0.788235   \n",
       "\n",
       "       Starting_Price_Average  Early_Bidding  Winning_Ratio  Auction_Duration  \\\n",
       "count             6321.000000    6321.000000    6321.000000       6321.000000   \n",
       "mean                 0.472821       0.430683       0.367731          4.615093   \n",
       "std                  0.489912       0.380785       0.436573          2.466629   \n",
       "min                  0.000000       0.000000       0.000000          1.000000   \n",
       "25%                  0.000000       0.026620       0.000000          3.000000   \n",
       "50%                  0.000000       0.360104       0.000000          5.000000   \n",
       "75%                  0.993593       0.826761       0.851852          7.000000   \n",
       "max                  0.999935       0.999900       1.000000         10.000000   \n",
       "\n",
       "             Class  \n",
       "count  6321.000000  \n",
       "mean      0.106787  \n",
       "std       0.308867  \n",
       "min       0.000000  \n",
       "25%       0.000000  \n",
       "50%       0.000000  \n",
       "75%       0.000000  \n",
       "max       1.000000  "
      ]
     },
     "execution_count": 35,
     "metadata": {},
     "output_type": "execute_result"
    }
   ],
   "source": [
    "df.describe()"
   ]
  },
  {
   "cell_type": "code",
   "execution_count": 24,
   "id": "c4987fe8",
   "metadata": {},
   "outputs": [
    {
     "data": {
      "text/plain": [
       "False"
      ]
     },
     "execution_count": 24,
     "metadata": {},
     "output_type": "execute_result"
    }
   ],
   "source": [
    "df.duplicated().any()"
   ]
  },
  {
   "cell_type": "code",
   "execution_count": null,
   "id": "437dfbf1",
   "metadata": {},
   "outputs": [],
   "source": [
    "# Use at least 3 plots to gain valuable insight about some of the variables. \n",
    "# Explain in the information that the visualisations provide. [0-10]"
   ]
  },
  {
   "cell_type": "markdown",
   "id": "a03b57c5",
   "metadata": {},
   "source": [
    "The following boxplot illustrates the distribution of bids among the 1054 distinct bidders identified using the `Bidder_ID` feature, which serves as a unique identifier for each bidder, and `Record_ID` to count the amount of distinct bids for each bidder. As indicated, three quarters of bidders made 7 bids or fewer, with some outliers making up to 112 bids. It is worth noting that the most frequently occurring number of bids per bidder was 1."
   ]
  },
  {
   "cell_type": "code",
   "execution_count": 28,
   "id": "e05672e0",
   "metadata": {},
   "outputs": [
    {
     "data": {
      "application/vnd.plotly.v1+json": {
       "config": {
        "plotlyServerURL": "https://plot.ly"
       },
       "data": [
        {
         "alignmentgroup": "True",
         "hovertemplate": "Record_ID=%{x}<extra></extra>",
         "legendgroup": "",
         "marker": {
          "color": "#636efa"
         },
         "name": "",
         "notched": false,
         "offsetgroup": "",
         "orientation": "h",
         "showlegend": false,
         "type": "box",
         "x": [
          3,
          1,
          1,
          5,
          1,
          1,
          11,
          1,
          10,
          1,
          2,
          1,
          6,
          3,
          1,
          1,
          6,
          6,
          6,
          1,
          3,
          3,
          1,
          1,
          3,
          1,
          6,
          1,
          3,
          5,
          1,
          2,
          1,
          3,
          3,
          4,
          1,
          1,
          1,
          7,
          22,
          7,
          11,
          4,
          1,
          1,
          5,
          9,
          8,
          3,
          1,
          29,
          1,
          9,
          19,
          6,
          15,
          3,
          9,
          1,
          9,
          2,
          2,
          6,
          1,
          3,
          12,
          2,
          2,
          1,
          11,
          31,
          11,
          4,
          7,
          3,
          2,
          4,
          2,
          3,
          12,
          1,
          3,
          4,
          6,
          6,
          11,
          1,
          1,
          1,
          2,
          5,
          3,
          2,
          4,
          8,
          5,
          3,
          1,
          2,
          2,
          1,
          7,
          6,
          15,
          1,
          1,
          1,
          3,
          1,
          12,
          2,
          1,
          1,
          3,
          2,
          10,
          1,
          3,
          5,
          2,
          4,
          9,
          4,
          2,
          4,
          1,
          2,
          2,
          5,
          4,
          4,
          4,
          4,
          1,
          1,
          5,
          3,
          1,
          2,
          5,
          1,
          2,
          1,
          1,
          1,
          6,
          4,
          3,
          2,
          7,
          5,
          5,
          2,
          6,
          1,
          1,
          1,
          9,
          7,
          2,
          1,
          3,
          4,
          1,
          3,
          5,
          1,
          1,
          1,
          2,
          1,
          7,
          1,
          1,
          1,
          2,
          6,
          1,
          1,
          2,
          2,
          5,
          1,
          2,
          1,
          1,
          4,
          1,
          2,
          1,
          4,
          6,
          3,
          2,
          1,
          1,
          2,
          8,
          9,
          1,
          2,
          3,
          1,
          1,
          10,
          1,
          1,
          4,
          2,
          5,
          1,
          5,
          1,
          1,
          2,
          1,
          3,
          1,
          1,
          3,
          2,
          11,
          2,
          1,
          7,
          1,
          9,
          1,
          1,
          5,
          8,
          2,
          1,
          5,
          2,
          3,
          3,
          2,
          2,
          1,
          1,
          7,
          1,
          7,
          1,
          22,
          1,
          2,
          6,
          6,
          1,
          13,
          4,
          2,
          1,
          3,
          3,
          1,
          1,
          1,
          5,
          6,
          1,
          1,
          4,
          2,
          2,
          1,
          5,
          12,
          5,
          1,
          1,
          1,
          1,
          1,
          2,
          2,
          3,
          1,
          2,
          1,
          1,
          4,
          1,
          3,
          1,
          2,
          2,
          5,
          1,
          3,
          1,
          9,
          6,
          1,
          1,
          4,
          2,
          1,
          3,
          6,
          1,
          3,
          3,
          1,
          7,
          8,
          1,
          4,
          5,
          2,
          1,
          4,
          6,
          1,
          12,
          3,
          20,
          13,
          3,
          1,
          4,
          1,
          7,
          9,
          3,
          6,
          6,
          112,
          19,
          14,
          13,
          21,
          5,
          4,
          8,
          32,
          9,
          37,
          30,
          35,
          30,
          33,
          4,
          25,
          26,
          30,
          23,
          12,
          4,
          15,
          10,
          2,
          2,
          1,
          3,
          4,
          1,
          2,
          15,
          31,
          3,
          2,
          9,
          2,
          4,
          4,
          3,
          1,
          3,
          3,
          5,
          8,
          9,
          5,
          3,
          2,
          4,
          1,
          1,
          3,
          3,
          7,
          3,
          1,
          2,
          2,
          1,
          3,
          1,
          16,
          3,
          20,
          9,
          1,
          10,
          13,
          1,
          13,
          2,
          6,
          7,
          7,
          2,
          5,
          5,
          1,
          4,
          2,
          2,
          8,
          1,
          1,
          1,
          1,
          3,
          1,
          1,
          24,
          1,
          2,
          12,
          11,
          3,
          4,
          2,
          1,
          4,
          2,
          3,
          6,
          11,
          3,
          6,
          4,
          3,
          11,
          2,
          4,
          1,
          1,
          4,
          14,
          4,
          3,
          5,
          2,
          3,
          2,
          12,
          27,
          2,
          11,
          13,
          67,
          4,
          7,
          10,
          16,
          11,
          8,
          21,
          19,
          11,
          21,
          5,
          23,
          15,
          18,
          3,
          7,
          1,
          3,
          6,
          1,
          2,
          4,
          4,
          6,
          6,
          4,
          1,
          2,
          2,
          1,
          2,
          1,
          2,
          3,
          2,
          3,
          1,
          3,
          1,
          1,
          2,
          22,
          3,
          1,
          3,
          10,
          1,
          15,
          2,
          3,
          2,
          2,
          1,
          11,
          5,
          10,
          18,
          19,
          5,
          3,
          1,
          1,
          1,
          3,
          1,
          8,
          4,
          3,
          3,
          1,
          1,
          2,
          1,
          7,
          11,
          12,
          11,
          4,
          7,
          1,
          19,
          11,
          7,
          3,
          11,
          9,
          9,
          1,
          3,
          6,
          12,
          3,
          1,
          3,
          12,
          6,
          2,
          5,
          1,
          4,
          3,
          1,
          1,
          6,
          50,
          4,
          15,
          15,
          15,
          10,
          4,
          8,
          44,
          8,
          6,
          22,
          15,
          15,
          15,
          2,
          24,
          12,
          11,
          7,
          12,
          2,
          1,
          3,
          2,
          1,
          5,
          3,
          1,
          1,
          1,
          1,
          4,
          7,
          2,
          1,
          4,
          6,
          7,
          1,
          2,
          2,
          9,
          1,
          1,
          6,
          1,
          6,
          3,
          3,
          2,
          1,
          2,
          1,
          1,
          16,
          1,
          1,
          8,
          1,
          1,
          5,
          3,
          9,
          4,
          1,
          5,
          1,
          1,
          8,
          1,
          7,
          2,
          2,
          1,
          6,
          1,
          3,
          4,
          3,
          4,
          2,
          5,
          1,
          1,
          4,
          1,
          28,
          3,
          8,
          12,
          25,
          1,
          4,
          8,
          22,
          8,
          48,
          7,
          9,
          13,
          4,
          17,
          12,
          9,
          5,
          4,
          3,
          6,
          6,
          8,
          20,
          6,
          1,
          4,
          1,
          3,
          1,
          3,
          1,
          1,
          27,
          5,
          4,
          8,
          1,
          4,
          8,
          9,
          8,
          31,
          3,
          9,
          4,
          17,
          4,
          8,
          1,
          4,
          2,
          2,
          2,
          3,
          12,
          2,
          5,
          1,
          1,
          3,
          5,
          13,
          6,
          21,
          6,
          9,
          18,
          23,
          2,
          7,
          8,
          36,
          4,
          4,
          18,
          3,
          24,
          17,
          1,
          9,
          15,
          85,
          6,
          3,
          6,
          1,
          4,
          3,
          1,
          5,
          3,
          3,
          1,
          1,
          2,
          1,
          12,
          4,
          2,
          26,
          2,
          8,
          8,
          12,
          1,
          4,
          11,
          10,
          6,
          1,
          21,
          13,
          17,
          45,
          12,
          4,
          16,
          11,
          23,
          5,
          1,
          2,
          1,
          9,
          7,
          2,
          6,
          4,
          1,
          2,
          6,
          12,
          6,
          2,
          2,
          1,
          3,
          1,
          13,
          2,
          2,
          8,
          16,
          2,
          1,
          5,
          2,
          3,
          1,
          4,
          1,
          1,
          3,
          1,
          5,
          1,
          1,
          3,
          1,
          2,
          2,
          1,
          1,
          5,
          11,
          7,
          7,
          3,
          3,
          1,
          1,
          4,
          3,
          3,
          2,
          41,
          6,
          11,
          7,
          31,
          15,
          17,
          43,
          9,
          6,
          7,
          18,
          14,
          10,
          15,
          4,
          49,
          10,
          14,
          3,
          2,
          2,
          2,
          2,
          10,
          2,
          12,
          2,
          3,
          3,
          1,
          3,
          1,
          1,
          4,
          10,
          31,
          6,
          9,
          4,
          25,
          4,
          2,
          9,
          28,
          3,
          10,
          12,
          1,
          31,
          13,
          7,
          13,
          33,
          2,
          10,
          6,
          5,
          1,
          11,
          3,
          5,
          4,
          1,
          2,
          1,
          1,
          1,
          12,
          5,
          10,
          3,
          26,
          2,
          3,
          8,
          19,
          6,
          10,
          13,
          4,
          28,
          8,
          5,
          15,
          13,
          18,
          5,
          2,
          1,
          1,
          1,
          5,
          2,
          4,
          4,
          4,
          2,
          1,
          1,
          6,
          5,
          4,
          3,
          8,
          4,
          9,
          2,
          1,
          7,
          11,
          9,
          5,
          17,
          12,
          7,
          1,
          15,
          3,
          2,
          19,
          1,
          1,
          5,
          1,
          1,
          1,
          3,
          2,
          8,
          7,
          3,
          4,
          2,
          2,
          5,
          5,
          1,
          3,
          6,
          4,
          3,
          4,
          2,
          6,
          1,
          2,
          4,
          4,
          4,
          1,
          2,
          5,
          2,
          1,
          3,
          3,
          4,
          1,
          3,
          1,
          1,
          4,
          3,
          6,
          1,
          1,
          1,
          1,
          4,
          1,
          2,
          3,
          3,
          3,
          2,
          4,
          1,
          8,
          2,
          3,
          4,
          1,
          1,
          2,
          1,
          1,
          3,
          14,
          4,
          2,
          1,
          19,
          4,
          3,
          3,
          4,
          6,
          7,
          6,
          1,
          5,
          14,
          2,
          3,
          10,
          3,
          1,
          2,
          1,
          1,
          1,
          1,
          3,
          1,
          4,
          1,
          5,
          2,
          5,
          4,
          4,
          3,
          3,
          1,
          1,
          1,
          5,
          10
         ],
         "x0": " ",
         "xaxis": "x",
         "y0": " ",
         "yaxis": "y"
        }
       ],
       "layout": {
        "boxmode": "group",
        "height": 400,
        "legend": {
         "tracegroupgap": 0
        },
        "margin": {
         "t": 60
        },
        "template": {
         "data": {
          "bar": [
           {
            "error_x": {
             "color": "#2a3f5f"
            },
            "error_y": {
             "color": "#2a3f5f"
            },
            "marker": {
             "line": {
              "color": "#E5ECF6",
              "width": 0.5
             },
             "pattern": {
              "fillmode": "overlay",
              "size": 10,
              "solidity": 0.2
             }
            },
            "type": "bar"
           }
          ],
          "barpolar": [
           {
            "marker": {
             "line": {
              "color": "#E5ECF6",
              "width": 0.5
             },
             "pattern": {
              "fillmode": "overlay",
              "size": 10,
              "solidity": 0.2
             }
            },
            "type": "barpolar"
           }
          ],
          "carpet": [
           {
            "aaxis": {
             "endlinecolor": "#2a3f5f",
             "gridcolor": "white",
             "linecolor": "white",
             "minorgridcolor": "white",
             "startlinecolor": "#2a3f5f"
            },
            "baxis": {
             "endlinecolor": "#2a3f5f",
             "gridcolor": "white",
             "linecolor": "white",
             "minorgridcolor": "white",
             "startlinecolor": "#2a3f5f"
            },
            "type": "carpet"
           }
          ],
          "choropleth": [
           {
            "colorbar": {
             "outlinewidth": 0,
             "ticks": ""
            },
            "type": "choropleth"
           }
          ],
          "contour": [
           {
            "colorbar": {
             "outlinewidth": 0,
             "ticks": ""
            },
            "colorscale": [
             [
              0,
              "#0d0887"
             ],
             [
              0.1111111111111111,
              "#46039f"
             ],
             [
              0.2222222222222222,
              "#7201a8"
             ],
             [
              0.3333333333333333,
              "#9c179e"
             ],
             [
              0.4444444444444444,
              "#bd3786"
             ],
             [
              0.5555555555555556,
              "#d8576b"
             ],
             [
              0.6666666666666666,
              "#ed7953"
             ],
             [
              0.7777777777777778,
              "#fb9f3a"
             ],
             [
              0.8888888888888888,
              "#fdca26"
             ],
             [
              1,
              "#f0f921"
             ]
            ],
            "type": "contour"
           }
          ],
          "contourcarpet": [
           {
            "colorbar": {
             "outlinewidth": 0,
             "ticks": ""
            },
            "type": "contourcarpet"
           }
          ],
          "heatmap": [
           {
            "colorbar": {
             "outlinewidth": 0,
             "ticks": ""
            },
            "colorscale": [
             [
              0,
              "#0d0887"
             ],
             [
              0.1111111111111111,
              "#46039f"
             ],
             [
              0.2222222222222222,
              "#7201a8"
             ],
             [
              0.3333333333333333,
              "#9c179e"
             ],
             [
              0.4444444444444444,
              "#bd3786"
             ],
             [
              0.5555555555555556,
              "#d8576b"
             ],
             [
              0.6666666666666666,
              "#ed7953"
             ],
             [
              0.7777777777777778,
              "#fb9f3a"
             ],
             [
              0.8888888888888888,
              "#fdca26"
             ],
             [
              1,
              "#f0f921"
             ]
            ],
            "type": "heatmap"
           }
          ],
          "heatmapgl": [
           {
            "colorbar": {
             "outlinewidth": 0,
             "ticks": ""
            },
            "colorscale": [
             [
              0,
              "#0d0887"
             ],
             [
              0.1111111111111111,
              "#46039f"
             ],
             [
              0.2222222222222222,
              "#7201a8"
             ],
             [
              0.3333333333333333,
              "#9c179e"
             ],
             [
              0.4444444444444444,
              "#bd3786"
             ],
             [
              0.5555555555555556,
              "#d8576b"
             ],
             [
              0.6666666666666666,
              "#ed7953"
             ],
             [
              0.7777777777777778,
              "#fb9f3a"
             ],
             [
              0.8888888888888888,
              "#fdca26"
             ],
             [
              1,
              "#f0f921"
             ]
            ],
            "type": "heatmapgl"
           }
          ],
          "histogram": [
           {
            "marker": {
             "pattern": {
              "fillmode": "overlay",
              "size": 10,
              "solidity": 0.2
             }
            },
            "type": "histogram"
           }
          ],
          "histogram2d": [
           {
            "colorbar": {
             "outlinewidth": 0,
             "ticks": ""
            },
            "colorscale": [
             [
              0,
              "#0d0887"
             ],
             [
              0.1111111111111111,
              "#46039f"
             ],
             [
              0.2222222222222222,
              "#7201a8"
             ],
             [
              0.3333333333333333,
              "#9c179e"
             ],
             [
              0.4444444444444444,
              "#bd3786"
             ],
             [
              0.5555555555555556,
              "#d8576b"
             ],
             [
              0.6666666666666666,
              "#ed7953"
             ],
             [
              0.7777777777777778,
              "#fb9f3a"
             ],
             [
              0.8888888888888888,
              "#fdca26"
             ],
             [
              1,
              "#f0f921"
             ]
            ],
            "type": "histogram2d"
           }
          ],
          "histogram2dcontour": [
           {
            "colorbar": {
             "outlinewidth": 0,
             "ticks": ""
            },
            "colorscale": [
             [
              0,
              "#0d0887"
             ],
             [
              0.1111111111111111,
              "#46039f"
             ],
             [
              0.2222222222222222,
              "#7201a8"
             ],
             [
              0.3333333333333333,
              "#9c179e"
             ],
             [
              0.4444444444444444,
              "#bd3786"
             ],
             [
              0.5555555555555556,
              "#d8576b"
             ],
             [
              0.6666666666666666,
              "#ed7953"
             ],
             [
              0.7777777777777778,
              "#fb9f3a"
             ],
             [
              0.8888888888888888,
              "#fdca26"
             ],
             [
              1,
              "#f0f921"
             ]
            ],
            "type": "histogram2dcontour"
           }
          ],
          "mesh3d": [
           {
            "colorbar": {
             "outlinewidth": 0,
             "ticks": ""
            },
            "type": "mesh3d"
           }
          ],
          "parcoords": [
           {
            "line": {
             "colorbar": {
              "outlinewidth": 0,
              "ticks": ""
             }
            },
            "type": "parcoords"
           }
          ],
          "pie": [
           {
            "automargin": true,
            "type": "pie"
           }
          ],
          "scatter": [
           {
            "fillpattern": {
             "fillmode": "overlay",
             "size": 10,
             "solidity": 0.2
            },
            "type": "scatter"
           }
          ],
          "scatter3d": [
           {
            "line": {
             "colorbar": {
              "outlinewidth": 0,
              "ticks": ""
             }
            },
            "marker": {
             "colorbar": {
              "outlinewidth": 0,
              "ticks": ""
             }
            },
            "type": "scatter3d"
           }
          ],
          "scattercarpet": [
           {
            "marker": {
             "colorbar": {
              "outlinewidth": 0,
              "ticks": ""
             }
            },
            "type": "scattercarpet"
           }
          ],
          "scattergeo": [
           {
            "marker": {
             "colorbar": {
              "outlinewidth": 0,
              "ticks": ""
             }
            },
            "type": "scattergeo"
           }
          ],
          "scattergl": [
           {
            "marker": {
             "colorbar": {
              "outlinewidth": 0,
              "ticks": ""
             }
            },
            "type": "scattergl"
           }
          ],
          "scattermapbox": [
           {
            "marker": {
             "colorbar": {
              "outlinewidth": 0,
              "ticks": ""
             }
            },
            "type": "scattermapbox"
           }
          ],
          "scatterpolar": [
           {
            "marker": {
             "colorbar": {
              "outlinewidth": 0,
              "ticks": ""
             }
            },
            "type": "scatterpolar"
           }
          ],
          "scatterpolargl": [
           {
            "marker": {
             "colorbar": {
              "outlinewidth": 0,
              "ticks": ""
             }
            },
            "type": "scatterpolargl"
           }
          ],
          "scatterternary": [
           {
            "marker": {
             "colorbar": {
              "outlinewidth": 0,
              "ticks": ""
             }
            },
            "type": "scatterternary"
           }
          ],
          "surface": [
           {
            "colorbar": {
             "outlinewidth": 0,
             "ticks": ""
            },
            "colorscale": [
             [
              0,
              "#0d0887"
             ],
             [
              0.1111111111111111,
              "#46039f"
             ],
             [
              0.2222222222222222,
              "#7201a8"
             ],
             [
              0.3333333333333333,
              "#9c179e"
             ],
             [
              0.4444444444444444,
              "#bd3786"
             ],
             [
              0.5555555555555556,
              "#d8576b"
             ],
             [
              0.6666666666666666,
              "#ed7953"
             ],
             [
              0.7777777777777778,
              "#fb9f3a"
             ],
             [
              0.8888888888888888,
              "#fdca26"
             ],
             [
              1,
              "#f0f921"
             ]
            ],
            "type": "surface"
           }
          ],
          "table": [
           {
            "cells": {
             "fill": {
              "color": "#EBF0F8"
             },
             "line": {
              "color": "white"
             }
            },
            "header": {
             "fill": {
              "color": "#C8D4E3"
             },
             "line": {
              "color": "white"
             }
            },
            "type": "table"
           }
          ]
         },
         "layout": {
          "annotationdefaults": {
           "arrowcolor": "#2a3f5f",
           "arrowhead": 0,
           "arrowwidth": 1
          },
          "autotypenumbers": "strict",
          "coloraxis": {
           "colorbar": {
            "outlinewidth": 0,
            "ticks": ""
           }
          },
          "colorscale": {
           "diverging": [
            [
             0,
             "#8e0152"
            ],
            [
             0.1,
             "#c51b7d"
            ],
            [
             0.2,
             "#de77ae"
            ],
            [
             0.3,
             "#f1b6da"
            ],
            [
             0.4,
             "#fde0ef"
            ],
            [
             0.5,
             "#f7f7f7"
            ],
            [
             0.6,
             "#e6f5d0"
            ],
            [
             0.7,
             "#b8e186"
            ],
            [
             0.8,
             "#7fbc41"
            ],
            [
             0.9,
             "#4d9221"
            ],
            [
             1,
             "#276419"
            ]
           ],
           "sequential": [
            [
             0,
             "#0d0887"
            ],
            [
             0.1111111111111111,
             "#46039f"
            ],
            [
             0.2222222222222222,
             "#7201a8"
            ],
            [
             0.3333333333333333,
             "#9c179e"
            ],
            [
             0.4444444444444444,
             "#bd3786"
            ],
            [
             0.5555555555555556,
             "#d8576b"
            ],
            [
             0.6666666666666666,
             "#ed7953"
            ],
            [
             0.7777777777777778,
             "#fb9f3a"
            ],
            [
             0.8888888888888888,
             "#fdca26"
            ],
            [
             1,
             "#f0f921"
            ]
           ],
           "sequentialminus": [
            [
             0,
             "#0d0887"
            ],
            [
             0.1111111111111111,
             "#46039f"
            ],
            [
             0.2222222222222222,
             "#7201a8"
            ],
            [
             0.3333333333333333,
             "#9c179e"
            ],
            [
             0.4444444444444444,
             "#bd3786"
            ],
            [
             0.5555555555555556,
             "#d8576b"
            ],
            [
             0.6666666666666666,
             "#ed7953"
            ],
            [
             0.7777777777777778,
             "#fb9f3a"
            ],
            [
             0.8888888888888888,
             "#fdca26"
            ],
            [
             1,
             "#f0f921"
            ]
           ]
          },
          "colorway": [
           "#636efa",
           "#EF553B",
           "#00cc96",
           "#ab63fa",
           "#FFA15A",
           "#19d3f3",
           "#FF6692",
           "#B6E880",
           "#FF97FF",
           "#FECB52"
          ],
          "font": {
           "color": "#2a3f5f"
          },
          "geo": {
           "bgcolor": "white",
           "lakecolor": "white",
           "landcolor": "#E5ECF6",
           "showlakes": true,
           "showland": true,
           "subunitcolor": "white"
          },
          "hoverlabel": {
           "align": "left"
          },
          "hovermode": "closest",
          "mapbox": {
           "style": "light"
          },
          "paper_bgcolor": "white",
          "plot_bgcolor": "#E5ECF6",
          "polar": {
           "angularaxis": {
            "gridcolor": "white",
            "linecolor": "white",
            "ticks": ""
           },
           "bgcolor": "#E5ECF6",
           "radialaxis": {
            "gridcolor": "white",
            "linecolor": "white",
            "ticks": ""
           }
          },
          "scene": {
           "xaxis": {
            "backgroundcolor": "#E5ECF6",
            "gridcolor": "white",
            "gridwidth": 2,
            "linecolor": "white",
            "showbackground": true,
            "ticks": "",
            "zerolinecolor": "white"
           },
           "yaxis": {
            "backgroundcolor": "#E5ECF6",
            "gridcolor": "white",
            "gridwidth": 2,
            "linecolor": "white",
            "showbackground": true,
            "ticks": "",
            "zerolinecolor": "white"
           },
           "zaxis": {
            "backgroundcolor": "#E5ECF6",
            "gridcolor": "white",
            "gridwidth": 2,
            "linecolor": "white",
            "showbackground": true,
            "ticks": "",
            "zerolinecolor": "white"
           }
          },
          "shapedefaults": {
           "line": {
            "color": "#2a3f5f"
           }
          },
          "ternary": {
           "aaxis": {
            "gridcolor": "white",
            "linecolor": "white",
            "ticks": ""
           },
           "baxis": {
            "gridcolor": "white",
            "linecolor": "white",
            "ticks": ""
           },
           "bgcolor": "#E5ECF6",
           "caxis": {
            "gridcolor": "white",
            "linecolor": "white",
            "ticks": ""
           }
          },
          "title": {
           "x": 0.05
          },
          "xaxis": {
           "automargin": true,
           "gridcolor": "white",
           "linecolor": "white",
           "ticks": "",
           "title": {
            "standoff": 15
           },
           "zerolinecolor": "white",
           "zerolinewidth": 2
          },
          "yaxis": {
           "automargin": true,
           "gridcolor": "white",
           "linecolor": "white",
           "ticks": "",
           "title": {
            "standoff": 15
           },
           "zerolinecolor": "white",
           "zerolinewidth": 2
          }
         }
        },
        "title": {
         "text": "Distribution of Bids Per Bidder"
        },
        "width": 800,
        "xaxis": {
         "anchor": "y",
         "domain": [
          0,
          1
         ],
         "title": {
          "text": "Bids Per Bidder"
         }
        },
        "yaxis": {
         "anchor": "x",
         "domain": [
          0,
          1
         ]
        }
       }
      },
      "text/html": [
       "<div>                            <div id=\"b95e973d-1605-474d-83b6-148999a2ad06\" class=\"plotly-graph-div\" style=\"height:400px; width:800px;\"></div>            <script type=\"text/javascript\">                require([\"plotly\"], function(Plotly) {                    window.PLOTLYENV=window.PLOTLYENV || {};                                    if (document.getElementById(\"b95e973d-1605-474d-83b6-148999a2ad06\")) {                    Plotly.newPlot(                        \"b95e973d-1605-474d-83b6-148999a2ad06\",                        [{\"alignmentgroup\":\"True\",\"hovertemplate\":\"Record_ID=%{x}<extra></extra>\",\"legendgroup\":\"\",\"marker\":{\"color\":\"#636efa\"},\"name\":\"\",\"notched\":false,\"offsetgroup\":\"\",\"orientation\":\"h\",\"showlegend\":false,\"x\":[3,1,1,5,1,1,11,1,10,1,2,1,6,3,1,1,6,6,6,1,3,3,1,1,3,1,6,1,3,5,1,2,1,3,3,4,1,1,1,7,22,7,11,4,1,1,5,9,8,3,1,29,1,9,19,6,15,3,9,1,9,2,2,6,1,3,12,2,2,1,11,31,11,4,7,3,2,4,2,3,12,1,3,4,6,6,11,1,1,1,2,5,3,2,4,8,5,3,1,2,2,1,7,6,15,1,1,1,3,1,12,2,1,1,3,2,10,1,3,5,2,4,9,4,2,4,1,2,2,5,4,4,4,4,1,1,5,3,1,2,5,1,2,1,1,1,6,4,3,2,7,5,5,2,6,1,1,1,9,7,2,1,3,4,1,3,5,1,1,1,2,1,7,1,1,1,2,6,1,1,2,2,5,1,2,1,1,4,1,2,1,4,6,3,2,1,1,2,8,9,1,2,3,1,1,10,1,1,4,2,5,1,5,1,1,2,1,3,1,1,3,2,11,2,1,7,1,9,1,1,5,8,2,1,5,2,3,3,2,2,1,1,7,1,7,1,22,1,2,6,6,1,13,4,2,1,3,3,1,1,1,5,6,1,1,4,2,2,1,5,12,5,1,1,1,1,1,2,2,3,1,2,1,1,4,1,3,1,2,2,5,1,3,1,9,6,1,1,4,2,1,3,6,1,3,3,1,7,8,1,4,5,2,1,4,6,1,12,3,20,13,3,1,4,1,7,9,3,6,6,112,19,14,13,21,5,4,8,32,9,37,30,35,30,33,4,25,26,30,23,12,4,15,10,2,2,1,3,4,1,2,15,31,3,2,9,2,4,4,3,1,3,3,5,8,9,5,3,2,4,1,1,3,3,7,3,1,2,2,1,3,1,16,3,20,9,1,10,13,1,13,2,6,7,7,2,5,5,1,4,2,2,8,1,1,1,1,3,1,1,24,1,2,12,11,3,4,2,1,4,2,3,6,11,3,6,4,3,11,2,4,1,1,4,14,4,3,5,2,3,2,12,27,2,11,13,67,4,7,10,16,11,8,21,19,11,21,5,23,15,18,3,7,1,3,6,1,2,4,4,6,6,4,1,2,2,1,2,1,2,3,2,3,1,3,1,1,2,22,3,1,3,10,1,15,2,3,2,2,1,11,5,10,18,19,5,3,1,1,1,3,1,8,4,3,3,1,1,2,1,7,11,12,11,4,7,1,19,11,7,3,11,9,9,1,3,6,12,3,1,3,12,6,2,5,1,4,3,1,1,6,50,4,15,15,15,10,4,8,44,8,6,22,15,15,15,2,24,12,11,7,12,2,1,3,2,1,5,3,1,1,1,1,4,7,2,1,4,6,7,1,2,2,9,1,1,6,1,6,3,3,2,1,2,1,1,16,1,1,8,1,1,5,3,9,4,1,5,1,1,8,1,7,2,2,1,6,1,3,4,3,4,2,5,1,1,4,1,28,3,8,12,25,1,4,8,22,8,48,7,9,13,4,17,12,9,5,4,3,6,6,8,20,6,1,4,1,3,1,3,1,1,27,5,4,8,1,4,8,9,8,31,3,9,4,17,4,8,1,4,2,2,2,3,12,2,5,1,1,3,5,13,6,21,6,9,18,23,2,7,8,36,4,4,18,3,24,17,1,9,15,85,6,3,6,1,4,3,1,5,3,3,1,1,2,1,12,4,2,26,2,8,8,12,1,4,11,10,6,1,21,13,17,45,12,4,16,11,23,5,1,2,1,9,7,2,6,4,1,2,6,12,6,2,2,1,3,1,13,2,2,8,16,2,1,5,2,3,1,4,1,1,3,1,5,1,1,3,1,2,2,1,1,5,11,7,7,3,3,1,1,4,3,3,2,41,6,11,7,31,15,17,43,9,6,7,18,14,10,15,4,49,10,14,3,2,2,2,2,10,2,12,2,3,3,1,3,1,1,4,10,31,6,9,4,25,4,2,9,28,3,10,12,1,31,13,7,13,33,2,10,6,5,1,11,3,5,4,1,2,1,1,1,12,5,10,3,26,2,3,8,19,6,10,13,4,28,8,5,15,13,18,5,2,1,1,1,5,2,4,4,4,2,1,1,6,5,4,3,8,4,9,2,1,7,11,9,5,17,12,7,1,15,3,2,19,1,1,5,1,1,1,3,2,8,7,3,4,2,2,5,5,1,3,6,4,3,4,2,6,1,2,4,4,4,1,2,5,2,1,3,3,4,1,3,1,1,4,3,6,1,1,1,1,4,1,2,3,3,3,2,4,1,8,2,3,4,1,1,2,1,1,3,14,4,2,1,19,4,3,3,4,6,7,6,1,5,14,2,3,10,3,1,2,1,1,1,1,3,1,4,1,5,2,5,4,4,3,3,1,1,1,5,10],\"x0\":\" \",\"xaxis\":\"x\",\"y0\":\" \",\"yaxis\":\"y\",\"type\":\"box\"}],                        {\"template\":{\"data\":{\"histogram2dcontour\":[{\"type\":\"histogram2dcontour\",\"colorbar\":{\"outlinewidth\":0,\"ticks\":\"\"},\"colorscale\":[[0.0,\"#0d0887\"],[0.1111111111111111,\"#46039f\"],[0.2222222222222222,\"#7201a8\"],[0.3333333333333333,\"#9c179e\"],[0.4444444444444444,\"#bd3786\"],[0.5555555555555556,\"#d8576b\"],[0.6666666666666666,\"#ed7953\"],[0.7777777777777778,\"#fb9f3a\"],[0.8888888888888888,\"#fdca26\"],[1.0,\"#f0f921\"]]}],\"choropleth\":[{\"type\":\"choropleth\",\"colorbar\":{\"outlinewidth\":0,\"ticks\":\"\"}}],\"histogram2d\":[{\"type\":\"histogram2d\",\"colorbar\":{\"outlinewidth\":0,\"ticks\":\"\"},\"colorscale\":[[0.0,\"#0d0887\"],[0.1111111111111111,\"#46039f\"],[0.2222222222222222,\"#7201a8\"],[0.3333333333333333,\"#9c179e\"],[0.4444444444444444,\"#bd3786\"],[0.5555555555555556,\"#d8576b\"],[0.6666666666666666,\"#ed7953\"],[0.7777777777777778,\"#fb9f3a\"],[0.8888888888888888,\"#fdca26\"],[1.0,\"#f0f921\"]]}],\"heatmap\":[{\"type\":\"heatmap\",\"colorbar\":{\"outlinewidth\":0,\"ticks\":\"\"},\"colorscale\":[[0.0,\"#0d0887\"],[0.1111111111111111,\"#46039f\"],[0.2222222222222222,\"#7201a8\"],[0.3333333333333333,\"#9c179e\"],[0.4444444444444444,\"#bd3786\"],[0.5555555555555556,\"#d8576b\"],[0.6666666666666666,\"#ed7953\"],[0.7777777777777778,\"#fb9f3a\"],[0.8888888888888888,\"#fdca26\"],[1.0,\"#f0f921\"]]}],\"heatmapgl\":[{\"type\":\"heatmapgl\",\"colorbar\":{\"outlinewidth\":0,\"ticks\":\"\"},\"colorscale\":[[0.0,\"#0d0887\"],[0.1111111111111111,\"#46039f\"],[0.2222222222222222,\"#7201a8\"],[0.3333333333333333,\"#9c179e\"],[0.4444444444444444,\"#bd3786\"],[0.5555555555555556,\"#d8576b\"],[0.6666666666666666,\"#ed7953\"],[0.7777777777777778,\"#fb9f3a\"],[0.8888888888888888,\"#fdca26\"],[1.0,\"#f0f921\"]]}],\"contourcarpet\":[{\"type\":\"contourcarpet\",\"colorbar\":{\"outlinewidth\":0,\"ticks\":\"\"}}],\"contour\":[{\"type\":\"contour\",\"colorbar\":{\"outlinewidth\":0,\"ticks\":\"\"},\"colorscale\":[[0.0,\"#0d0887\"],[0.1111111111111111,\"#46039f\"],[0.2222222222222222,\"#7201a8\"],[0.3333333333333333,\"#9c179e\"],[0.4444444444444444,\"#bd3786\"],[0.5555555555555556,\"#d8576b\"],[0.6666666666666666,\"#ed7953\"],[0.7777777777777778,\"#fb9f3a\"],[0.8888888888888888,\"#fdca26\"],[1.0,\"#f0f921\"]]}],\"surface\":[{\"type\":\"surface\",\"colorbar\":{\"outlinewidth\":0,\"ticks\":\"\"},\"colorscale\":[[0.0,\"#0d0887\"],[0.1111111111111111,\"#46039f\"],[0.2222222222222222,\"#7201a8\"],[0.3333333333333333,\"#9c179e\"],[0.4444444444444444,\"#bd3786\"],[0.5555555555555556,\"#d8576b\"],[0.6666666666666666,\"#ed7953\"],[0.7777777777777778,\"#fb9f3a\"],[0.8888888888888888,\"#fdca26\"],[1.0,\"#f0f921\"]]}],\"mesh3d\":[{\"type\":\"mesh3d\",\"colorbar\":{\"outlinewidth\":0,\"ticks\":\"\"}}],\"scatter\":[{\"fillpattern\":{\"fillmode\":\"overlay\",\"size\":10,\"solidity\":0.2},\"type\":\"scatter\"}],\"parcoords\":[{\"type\":\"parcoords\",\"line\":{\"colorbar\":{\"outlinewidth\":0,\"ticks\":\"\"}}}],\"scatterpolargl\":[{\"type\":\"scatterpolargl\",\"marker\":{\"colorbar\":{\"outlinewidth\":0,\"ticks\":\"\"}}}],\"bar\":[{\"error_x\":{\"color\":\"#2a3f5f\"},\"error_y\":{\"color\":\"#2a3f5f\"},\"marker\":{\"line\":{\"color\":\"#E5ECF6\",\"width\":0.5},\"pattern\":{\"fillmode\":\"overlay\",\"size\":10,\"solidity\":0.2}},\"type\":\"bar\"}],\"scattergeo\":[{\"type\":\"scattergeo\",\"marker\":{\"colorbar\":{\"outlinewidth\":0,\"ticks\":\"\"}}}],\"scatterpolar\":[{\"type\":\"scatterpolar\",\"marker\":{\"colorbar\":{\"outlinewidth\":0,\"ticks\":\"\"}}}],\"histogram\":[{\"marker\":{\"pattern\":{\"fillmode\":\"overlay\",\"size\":10,\"solidity\":0.2}},\"type\":\"histogram\"}],\"scattergl\":[{\"type\":\"scattergl\",\"marker\":{\"colorbar\":{\"outlinewidth\":0,\"ticks\":\"\"}}}],\"scatter3d\":[{\"type\":\"scatter3d\",\"line\":{\"colorbar\":{\"outlinewidth\":0,\"ticks\":\"\"}},\"marker\":{\"colorbar\":{\"outlinewidth\":0,\"ticks\":\"\"}}}],\"scattermapbox\":[{\"type\":\"scattermapbox\",\"marker\":{\"colorbar\":{\"outlinewidth\":0,\"ticks\":\"\"}}}],\"scatterternary\":[{\"type\":\"scatterternary\",\"marker\":{\"colorbar\":{\"outlinewidth\":0,\"ticks\":\"\"}}}],\"scattercarpet\":[{\"type\":\"scattercarpet\",\"marker\":{\"colorbar\":{\"outlinewidth\":0,\"ticks\":\"\"}}}],\"carpet\":[{\"aaxis\":{\"endlinecolor\":\"#2a3f5f\",\"gridcolor\":\"white\",\"linecolor\":\"white\",\"minorgridcolor\":\"white\",\"startlinecolor\":\"#2a3f5f\"},\"baxis\":{\"endlinecolor\":\"#2a3f5f\",\"gridcolor\":\"white\",\"linecolor\":\"white\",\"minorgridcolor\":\"white\",\"startlinecolor\":\"#2a3f5f\"},\"type\":\"carpet\"}],\"table\":[{\"cells\":{\"fill\":{\"color\":\"#EBF0F8\"},\"line\":{\"color\":\"white\"}},\"header\":{\"fill\":{\"color\":\"#C8D4E3\"},\"line\":{\"color\":\"white\"}},\"type\":\"table\"}],\"barpolar\":[{\"marker\":{\"line\":{\"color\":\"#E5ECF6\",\"width\":0.5},\"pattern\":{\"fillmode\":\"overlay\",\"size\":10,\"solidity\":0.2}},\"type\":\"barpolar\"}],\"pie\":[{\"automargin\":true,\"type\":\"pie\"}]},\"layout\":{\"autotypenumbers\":\"strict\",\"colorway\":[\"#636efa\",\"#EF553B\",\"#00cc96\",\"#ab63fa\",\"#FFA15A\",\"#19d3f3\",\"#FF6692\",\"#B6E880\",\"#FF97FF\",\"#FECB52\"],\"font\":{\"color\":\"#2a3f5f\"},\"hovermode\":\"closest\",\"hoverlabel\":{\"align\":\"left\"},\"paper_bgcolor\":\"white\",\"plot_bgcolor\":\"#E5ECF6\",\"polar\":{\"bgcolor\":\"#E5ECF6\",\"angularaxis\":{\"gridcolor\":\"white\",\"linecolor\":\"white\",\"ticks\":\"\"},\"radialaxis\":{\"gridcolor\":\"white\",\"linecolor\":\"white\",\"ticks\":\"\"}},\"ternary\":{\"bgcolor\":\"#E5ECF6\",\"aaxis\":{\"gridcolor\":\"white\",\"linecolor\":\"white\",\"ticks\":\"\"},\"baxis\":{\"gridcolor\":\"white\",\"linecolor\":\"white\",\"ticks\":\"\"},\"caxis\":{\"gridcolor\":\"white\",\"linecolor\":\"white\",\"ticks\":\"\"}},\"coloraxis\":{\"colorbar\":{\"outlinewidth\":0,\"ticks\":\"\"}},\"colorscale\":{\"sequential\":[[0.0,\"#0d0887\"],[0.1111111111111111,\"#46039f\"],[0.2222222222222222,\"#7201a8\"],[0.3333333333333333,\"#9c179e\"],[0.4444444444444444,\"#bd3786\"],[0.5555555555555556,\"#d8576b\"],[0.6666666666666666,\"#ed7953\"],[0.7777777777777778,\"#fb9f3a\"],[0.8888888888888888,\"#fdca26\"],[1.0,\"#f0f921\"]],\"sequentialminus\":[[0.0,\"#0d0887\"],[0.1111111111111111,\"#46039f\"],[0.2222222222222222,\"#7201a8\"],[0.3333333333333333,\"#9c179e\"],[0.4444444444444444,\"#bd3786\"],[0.5555555555555556,\"#d8576b\"],[0.6666666666666666,\"#ed7953\"],[0.7777777777777778,\"#fb9f3a\"],[0.8888888888888888,\"#fdca26\"],[1.0,\"#f0f921\"]],\"diverging\":[[0,\"#8e0152\"],[0.1,\"#c51b7d\"],[0.2,\"#de77ae\"],[0.3,\"#f1b6da\"],[0.4,\"#fde0ef\"],[0.5,\"#f7f7f7\"],[0.6,\"#e6f5d0\"],[0.7,\"#b8e186\"],[0.8,\"#7fbc41\"],[0.9,\"#4d9221\"],[1,\"#276419\"]]},\"xaxis\":{\"gridcolor\":\"white\",\"linecolor\":\"white\",\"ticks\":\"\",\"title\":{\"standoff\":15},\"zerolinecolor\":\"white\",\"automargin\":true,\"zerolinewidth\":2},\"yaxis\":{\"gridcolor\":\"white\",\"linecolor\":\"white\",\"ticks\":\"\",\"title\":{\"standoff\":15},\"zerolinecolor\":\"white\",\"automargin\":true,\"zerolinewidth\":2},\"scene\":{\"xaxis\":{\"backgroundcolor\":\"#E5ECF6\",\"gridcolor\":\"white\",\"linecolor\":\"white\",\"showbackground\":true,\"ticks\":\"\",\"zerolinecolor\":\"white\",\"gridwidth\":2},\"yaxis\":{\"backgroundcolor\":\"#E5ECF6\",\"gridcolor\":\"white\",\"linecolor\":\"white\",\"showbackground\":true,\"ticks\":\"\",\"zerolinecolor\":\"white\",\"gridwidth\":2},\"zaxis\":{\"backgroundcolor\":\"#E5ECF6\",\"gridcolor\":\"white\",\"linecolor\":\"white\",\"showbackground\":true,\"ticks\":\"\",\"zerolinecolor\":\"white\",\"gridwidth\":2}},\"shapedefaults\":{\"line\":{\"color\":\"#2a3f5f\"}},\"annotationdefaults\":{\"arrowcolor\":\"#2a3f5f\",\"arrowhead\":0,\"arrowwidth\":1},\"geo\":{\"bgcolor\":\"white\",\"landcolor\":\"#E5ECF6\",\"subunitcolor\":\"white\",\"showland\":true,\"showlakes\":true,\"lakecolor\":\"white\"},\"title\":{\"x\":0.05},\"mapbox\":{\"style\":\"light\"}}},\"xaxis\":{\"anchor\":\"y\",\"domain\":[0.0,1.0],\"title\":{\"text\":\"Bids Per Bidder\"}},\"yaxis\":{\"anchor\":\"x\",\"domain\":[0.0,1.0]},\"legend\":{\"tracegroupgap\":0},\"margin\":{\"t\":60},\"boxmode\":\"group\",\"height\":400,\"width\":800,\"title\":{\"text\":\"Distribution of Bids Per Bidder\"}},                        {\"responsive\": true}                    ).then(function(){\n",
       "                            \n",
       "var gd = document.getElementById('b95e973d-1605-474d-83b6-148999a2ad06');\n",
       "var x = new MutationObserver(function (mutations, observer) {{\n",
       "        var display = window.getComputedStyle(gd).display;\n",
       "        if (!display || display === 'none') {{\n",
       "            console.log([gd, 'removed!']);\n",
       "            Plotly.purge(gd);\n",
       "            observer.disconnect();\n",
       "        }}\n",
       "}});\n",
       "\n",
       "// Listen for the removal of the full notebook cells\n",
       "var notebookContainer = gd.closest('#notebook-container');\n",
       "if (notebookContainer) {{\n",
       "    x.observe(notebookContainer, {childList: true});\n",
       "}}\n",
       "\n",
       "// Listen for the clearing of the current output cell\n",
       "var outputEl = gd.closest('.output');\n",
       "if (outputEl) {{\n",
       "    x.observe(outputEl, {childList: true});\n",
       "}}\n",
       "\n",
       "                        })                };                });            </script>        </div>"
      ]
     },
     "metadata": {},
     "output_type": "display_data"
    }
   ],
   "source": [
    "bids_per_bidder = df.pivot_table(index='Bidder_ID', values='Record_ID', aggfunc='count')\n",
    "\n",
    "fig = px.box(bids_per_bidder, x='Record_ID', width=800, height=400)\n",
    "\n",
    "fig.update_layout(\n",
    "    title='Distribution of Bids Per Bidder',\n",
    "    xaxis_title='Bids Per Bidder'\n",
    ")\n",
    "\n",
    "fig.show()\n"
   ]
  },
  {
   "cell_type": "markdown",
   "id": "791e1d63",
   "metadata": {},
   "source": [
    "Given there are 807 distinct auctions identified using the `Auction_ID` feature, which serves as a unique identifier for each auction"
   ]
  },
  {
   "cell_type": "code",
   "execution_count": 58,
   "id": "11608f45",
   "metadata": {},
   "outputs": [
    {
     "data": {
      "text/plain": [
       "807"
      ]
     },
     "execution_count": 58,
     "metadata": {},
     "output_type": "execute_result"
    }
   ],
   "source": [
    "len(df['Auction_ID'].unique())"
   ]
  },
  {
   "cell_type": "markdown",
   "id": "13ef3ac6",
   "metadata": {},
   "source": [
    "The following histogram shows the distribution of bids among the `Record_ID` to count the amount of distinct bids for each auction. As shown, half of the auctions received 7 bids or fewer, with a few outliers receiving 26 bids. It is worth mentioning that the most frequently occurring value, or the mode, was 5. "
   ]
  },
  {
   "cell_type": "code",
   "execution_count": 62,
   "id": "b6823096",
   "metadata": {
    "scrolled": true
   },
   "outputs": [
    {
     "data": {
      "application/vnd.plotly.v1+json": {
       "config": {
        "plotlyServerURL": "https://plot.ly"
       },
       "data": [
        {
         "type": "histogram",
         "x": [
          9,
          9,
          3,
          9,
          11,
          6,
          8,
          5,
          8,
          23,
          10,
          6,
          6,
          12,
          13,
          8,
          17,
          2,
          3,
          7,
          5,
          10,
          6,
          7,
          20,
          3,
          8,
          5,
          16,
          3,
          6,
          5,
          6,
          5,
          9,
          6,
          4,
          7,
          8,
          5,
          5,
          4,
          2,
          2,
          7,
          11,
          17,
          10,
          8,
          3,
          8,
          8,
          8,
          6,
          6,
          9,
          9,
          6,
          7,
          6,
          9,
          5,
          9,
          3,
          6,
          5,
          10,
          19,
          6,
          11,
          6,
          8,
          3,
          4,
          7,
          12,
          6,
          8,
          10,
          6,
          5,
          7,
          24,
          7,
          2,
          6,
          9,
          14,
          2,
          6,
          7,
          5,
          4,
          10,
          8,
          2,
          7,
          3,
          8,
          5,
          9,
          7,
          9,
          6,
          7,
          7,
          6,
          18,
          4,
          6,
          9,
          6,
          6,
          7,
          3,
          11,
          11,
          3,
          7,
          7,
          18,
          5,
          9,
          14,
          6,
          5,
          5,
          10,
          13,
          12,
          5,
          4,
          11,
          8,
          7,
          5,
          13,
          5,
          6,
          5,
          6,
          8,
          5,
          4,
          5,
          2,
          14,
          7,
          7,
          3,
          6,
          3,
          5,
          3,
          3,
          5,
          7,
          4,
          4,
          4,
          7,
          1,
          8,
          8,
          9,
          7,
          11,
          10,
          5,
          12,
          4,
          12,
          5,
          14,
          8,
          7,
          10,
          7,
          12,
          8,
          13,
          7,
          5,
          6,
          5,
          7,
          11,
          13,
          5,
          8,
          3,
          10,
          2,
          4,
          3,
          1,
          4,
          7,
          5,
          9,
          12,
          4,
          7,
          11,
          5,
          19,
          5,
          14,
          20,
          9,
          26,
          12,
          13,
          9,
          8,
          5,
          10,
          4,
          4,
          7,
          11,
          3,
          5,
          6,
          5,
          20,
          6,
          7,
          11,
          4,
          7,
          6,
          7,
          4,
          5,
          4,
          3,
          5,
          15,
          5,
          24,
          6,
          4,
          15,
          3,
          6,
          4,
          9,
          5,
          8,
          7,
          9,
          3,
          4,
          6,
          8,
          4,
          4,
          10,
          6,
          3,
          4,
          14,
          5,
          3,
          16,
          11,
          13,
          7,
          5,
          11,
          7,
          4,
          17,
          11,
          14,
          5,
          6,
          9,
          9,
          12,
          13,
          14,
          6,
          7,
          15,
          7,
          6,
          22,
          7,
          5,
          10,
          11,
          8,
          16,
          3,
          5,
          2,
          7,
          7,
          5,
          5,
          4,
          3,
          13,
          7,
          20,
          10,
          6,
          4,
          14,
          13,
          7,
          4,
          10,
          12,
          5,
          11,
          9,
          5,
          6,
          5,
          6,
          10,
          9,
          12,
          5,
          10,
          14,
          8,
          5,
          5,
          16,
          12,
          3,
          13,
          10,
          10,
          5,
          9,
          6,
          9,
          4,
          9,
          4,
          5,
          9,
          6,
          4,
          14,
          5,
          13,
          5,
          7,
          4,
          5,
          6,
          11,
          11,
          12,
          9,
          4,
          2,
          9,
          22,
          6,
          8,
          5,
          13,
          5,
          8,
          7,
          10,
          3,
          6,
          10,
          5,
          9,
          12,
          13,
          10,
          9,
          16,
          4,
          8,
          11,
          7,
          7,
          15,
          4,
          9,
          4,
          4,
          8,
          4,
          6,
          4,
          4,
          13,
          15,
          5,
          3,
          9,
          6,
          6,
          9,
          10,
          9,
          6,
          4,
          5,
          9,
          13,
          7,
          3,
          6,
          3,
          6,
          14,
          9,
          8,
          6,
          2,
          9,
          5,
          6,
          3,
          18,
          3,
          10,
          13,
          4,
          7,
          7,
          14,
          4,
          11,
          4,
          5,
          7,
          6,
          7,
          4,
          4,
          8,
          10,
          10,
          8,
          10,
          6,
          3,
          9,
          5,
          8,
          17,
          10,
          6,
          2,
          9,
          3,
          8,
          3,
          13,
          14,
          4,
          14,
          16,
          13,
          5,
          7,
          6,
          10,
          9,
          5,
          6,
          3,
          2,
          11,
          14,
          3,
          9,
          4,
          5,
          10,
          7,
          15,
          5,
          5,
          4,
          6,
          6,
          3,
          4,
          5,
          4,
          5,
          3,
          4,
          10,
          5,
          3,
          8,
          3,
          3,
          2,
          3,
          7,
          7,
          5,
          6,
          9,
          2,
          11,
          12,
          10,
          6,
          7,
          19,
          3,
          8,
          5,
          8,
          5,
          4,
          14,
          7,
          8,
          5,
          12,
          3,
          2,
          8,
          8,
          7,
          6,
          5,
          4,
          23,
          11,
          13,
          7,
          19,
          5,
          16,
          2,
          12,
          5,
          2,
          3,
          5,
          5,
          4,
          15,
          5,
          8,
          7,
          3,
          5,
          2,
          9,
          6,
          8,
          12,
          5,
          12,
          7,
          4,
          2,
          4,
          14,
          15,
          7,
          14,
          10,
          6,
          12,
          6,
          6,
          10,
          6,
          4,
          9,
          13,
          1,
          4,
          18,
          4,
          9,
          9,
          7,
          5,
          4,
          10,
          13,
          7,
          8,
          6,
          5,
          11,
          9,
          9,
          4,
          3,
          6,
          10,
          8,
          20,
          12,
          7,
          16,
          11,
          4,
          22,
          5,
          6,
          26,
          7,
          6,
          15,
          5,
          8,
          12,
          16,
          4,
          3,
          4,
          3,
          10,
          10,
          12,
          4,
          8,
          4,
          4,
          9,
          17,
          11,
          8,
          7,
          5,
          7,
          2,
          19,
          1,
          6,
          3,
          5,
          21,
          6,
          4,
          15,
          5,
          14,
          5,
          5,
          18,
          10,
          9,
          12,
          12,
          5,
          5,
          5,
          6,
          10,
          9,
          10,
          12,
          5,
          13,
          3,
          6,
          6,
          16,
          5,
          10,
          4,
          2,
          9,
          4,
          6,
          5,
          3,
          12,
          7,
          3,
          7,
          3,
          14,
          20,
          2,
          10,
          10,
          11,
          3,
          7,
          4,
          8,
          5,
          9,
          13,
          19,
          2,
          11,
          16,
          8,
          6,
          21,
          7,
          5,
          17,
          20,
          2,
          3,
          3,
          10,
          13,
          4,
          8,
          5,
          4,
          7,
          4,
          3,
          5,
          3,
          13,
          17,
          12,
          5,
          5,
          7,
          3,
          6,
          10,
          7,
          6,
          12,
          8,
          15,
          6,
          4,
          5,
          10,
          1,
          9,
          2,
          4,
          7,
          10,
          3,
          12,
          6,
          15,
          7,
          4,
          12,
          7,
          9,
          9,
          5,
          4,
          17,
          7,
          9,
          5,
          15,
          10,
          4,
          5,
          6,
          9,
          4,
          13,
          6,
          7,
          7,
          4,
          11,
          6,
          10,
          21,
          7,
          14,
          3,
          7,
          8,
          9,
          2,
          14,
          10,
          21,
          5,
          8,
          23,
          6,
          4,
          4,
          11,
          11,
          10,
          3,
          4,
          14,
          6,
          7,
          3
         ],
         "xbins": {
          "size": 1
         }
        }
       ],
       "layout": {
        "bargap": 0.1,
        "template": {
         "data": {
          "bar": [
           {
            "error_x": {
             "color": "#2a3f5f"
            },
            "error_y": {
             "color": "#2a3f5f"
            },
            "marker": {
             "line": {
              "color": "#E5ECF6",
              "width": 0.5
             },
             "pattern": {
              "fillmode": "overlay",
              "size": 10,
              "solidity": 0.2
             }
            },
            "type": "bar"
           }
          ],
          "barpolar": [
           {
            "marker": {
             "line": {
              "color": "#E5ECF6",
              "width": 0.5
             },
             "pattern": {
              "fillmode": "overlay",
              "size": 10,
              "solidity": 0.2
             }
            },
            "type": "barpolar"
           }
          ],
          "carpet": [
           {
            "aaxis": {
             "endlinecolor": "#2a3f5f",
             "gridcolor": "white",
             "linecolor": "white",
             "minorgridcolor": "white",
             "startlinecolor": "#2a3f5f"
            },
            "baxis": {
             "endlinecolor": "#2a3f5f",
             "gridcolor": "white",
             "linecolor": "white",
             "minorgridcolor": "white",
             "startlinecolor": "#2a3f5f"
            },
            "type": "carpet"
           }
          ],
          "choropleth": [
           {
            "colorbar": {
             "outlinewidth": 0,
             "ticks": ""
            },
            "type": "choropleth"
           }
          ],
          "contour": [
           {
            "colorbar": {
             "outlinewidth": 0,
             "ticks": ""
            },
            "colorscale": [
             [
              0,
              "#0d0887"
             ],
             [
              0.1111111111111111,
              "#46039f"
             ],
             [
              0.2222222222222222,
              "#7201a8"
             ],
             [
              0.3333333333333333,
              "#9c179e"
             ],
             [
              0.4444444444444444,
              "#bd3786"
             ],
             [
              0.5555555555555556,
              "#d8576b"
             ],
             [
              0.6666666666666666,
              "#ed7953"
             ],
             [
              0.7777777777777778,
              "#fb9f3a"
             ],
             [
              0.8888888888888888,
              "#fdca26"
             ],
             [
              1,
              "#f0f921"
             ]
            ],
            "type": "contour"
           }
          ],
          "contourcarpet": [
           {
            "colorbar": {
             "outlinewidth": 0,
             "ticks": ""
            },
            "type": "contourcarpet"
           }
          ],
          "heatmap": [
           {
            "colorbar": {
             "outlinewidth": 0,
             "ticks": ""
            },
            "colorscale": [
             [
              0,
              "#0d0887"
             ],
             [
              0.1111111111111111,
              "#46039f"
             ],
             [
              0.2222222222222222,
              "#7201a8"
             ],
             [
              0.3333333333333333,
              "#9c179e"
             ],
             [
              0.4444444444444444,
              "#bd3786"
             ],
             [
              0.5555555555555556,
              "#d8576b"
             ],
             [
              0.6666666666666666,
              "#ed7953"
             ],
             [
              0.7777777777777778,
              "#fb9f3a"
             ],
             [
              0.8888888888888888,
              "#fdca26"
             ],
             [
              1,
              "#f0f921"
             ]
            ],
            "type": "heatmap"
           }
          ],
          "heatmapgl": [
           {
            "colorbar": {
             "outlinewidth": 0,
             "ticks": ""
            },
            "colorscale": [
             [
              0,
              "#0d0887"
             ],
             [
              0.1111111111111111,
              "#46039f"
             ],
             [
              0.2222222222222222,
              "#7201a8"
             ],
             [
              0.3333333333333333,
              "#9c179e"
             ],
             [
              0.4444444444444444,
              "#bd3786"
             ],
             [
              0.5555555555555556,
              "#d8576b"
             ],
             [
              0.6666666666666666,
              "#ed7953"
             ],
             [
              0.7777777777777778,
              "#fb9f3a"
             ],
             [
              0.8888888888888888,
              "#fdca26"
             ],
             [
              1,
              "#f0f921"
             ]
            ],
            "type": "heatmapgl"
           }
          ],
          "histogram": [
           {
            "marker": {
             "pattern": {
              "fillmode": "overlay",
              "size": 10,
              "solidity": 0.2
             }
            },
            "type": "histogram"
           }
          ],
          "histogram2d": [
           {
            "colorbar": {
             "outlinewidth": 0,
             "ticks": ""
            },
            "colorscale": [
             [
              0,
              "#0d0887"
             ],
             [
              0.1111111111111111,
              "#46039f"
             ],
             [
              0.2222222222222222,
              "#7201a8"
             ],
             [
              0.3333333333333333,
              "#9c179e"
             ],
             [
              0.4444444444444444,
              "#bd3786"
             ],
             [
              0.5555555555555556,
              "#d8576b"
             ],
             [
              0.6666666666666666,
              "#ed7953"
             ],
             [
              0.7777777777777778,
              "#fb9f3a"
             ],
             [
              0.8888888888888888,
              "#fdca26"
             ],
             [
              1,
              "#f0f921"
             ]
            ],
            "type": "histogram2d"
           }
          ],
          "histogram2dcontour": [
           {
            "colorbar": {
             "outlinewidth": 0,
             "ticks": ""
            },
            "colorscale": [
             [
              0,
              "#0d0887"
             ],
             [
              0.1111111111111111,
              "#46039f"
             ],
             [
              0.2222222222222222,
              "#7201a8"
             ],
             [
              0.3333333333333333,
              "#9c179e"
             ],
             [
              0.4444444444444444,
              "#bd3786"
             ],
             [
              0.5555555555555556,
              "#d8576b"
             ],
             [
              0.6666666666666666,
              "#ed7953"
             ],
             [
              0.7777777777777778,
              "#fb9f3a"
             ],
             [
              0.8888888888888888,
              "#fdca26"
             ],
             [
              1,
              "#f0f921"
             ]
            ],
            "type": "histogram2dcontour"
           }
          ],
          "mesh3d": [
           {
            "colorbar": {
             "outlinewidth": 0,
             "ticks": ""
            },
            "type": "mesh3d"
           }
          ],
          "parcoords": [
           {
            "line": {
             "colorbar": {
              "outlinewidth": 0,
              "ticks": ""
             }
            },
            "type": "parcoords"
           }
          ],
          "pie": [
           {
            "automargin": true,
            "type": "pie"
           }
          ],
          "scatter": [
           {
            "fillpattern": {
             "fillmode": "overlay",
             "size": 10,
             "solidity": 0.2
            },
            "type": "scatter"
           }
          ],
          "scatter3d": [
           {
            "line": {
             "colorbar": {
              "outlinewidth": 0,
              "ticks": ""
             }
            },
            "marker": {
             "colorbar": {
              "outlinewidth": 0,
              "ticks": ""
             }
            },
            "type": "scatter3d"
           }
          ],
          "scattercarpet": [
           {
            "marker": {
             "colorbar": {
              "outlinewidth": 0,
              "ticks": ""
             }
            },
            "type": "scattercarpet"
           }
          ],
          "scattergeo": [
           {
            "marker": {
             "colorbar": {
              "outlinewidth": 0,
              "ticks": ""
             }
            },
            "type": "scattergeo"
           }
          ],
          "scattergl": [
           {
            "marker": {
             "colorbar": {
              "outlinewidth": 0,
              "ticks": ""
             }
            },
            "type": "scattergl"
           }
          ],
          "scattermapbox": [
           {
            "marker": {
             "colorbar": {
              "outlinewidth": 0,
              "ticks": ""
             }
            },
            "type": "scattermapbox"
           }
          ],
          "scatterpolar": [
           {
            "marker": {
             "colorbar": {
              "outlinewidth": 0,
              "ticks": ""
             }
            },
            "type": "scatterpolar"
           }
          ],
          "scatterpolargl": [
           {
            "marker": {
             "colorbar": {
              "outlinewidth": 0,
              "ticks": ""
             }
            },
            "type": "scatterpolargl"
           }
          ],
          "scatterternary": [
           {
            "marker": {
             "colorbar": {
              "outlinewidth": 0,
              "ticks": ""
             }
            },
            "type": "scatterternary"
           }
          ],
          "surface": [
           {
            "colorbar": {
             "outlinewidth": 0,
             "ticks": ""
            },
            "colorscale": [
             [
              0,
              "#0d0887"
             ],
             [
              0.1111111111111111,
              "#46039f"
             ],
             [
              0.2222222222222222,
              "#7201a8"
             ],
             [
              0.3333333333333333,
              "#9c179e"
             ],
             [
              0.4444444444444444,
              "#bd3786"
             ],
             [
              0.5555555555555556,
              "#d8576b"
             ],
             [
              0.6666666666666666,
              "#ed7953"
             ],
             [
              0.7777777777777778,
              "#fb9f3a"
             ],
             [
              0.8888888888888888,
              "#fdca26"
             ],
             [
              1,
              "#f0f921"
             ]
            ],
            "type": "surface"
           }
          ],
          "table": [
           {
            "cells": {
             "fill": {
              "color": "#EBF0F8"
             },
             "line": {
              "color": "white"
             }
            },
            "header": {
             "fill": {
              "color": "#C8D4E3"
             },
             "line": {
              "color": "white"
             }
            },
            "type": "table"
           }
          ]
         },
         "layout": {
          "annotationdefaults": {
           "arrowcolor": "#2a3f5f",
           "arrowhead": 0,
           "arrowwidth": 1
          },
          "autotypenumbers": "strict",
          "coloraxis": {
           "colorbar": {
            "outlinewidth": 0,
            "ticks": ""
           }
          },
          "colorscale": {
           "diverging": [
            [
             0,
             "#8e0152"
            ],
            [
             0.1,
             "#c51b7d"
            ],
            [
             0.2,
             "#de77ae"
            ],
            [
             0.3,
             "#f1b6da"
            ],
            [
             0.4,
             "#fde0ef"
            ],
            [
             0.5,
             "#f7f7f7"
            ],
            [
             0.6,
             "#e6f5d0"
            ],
            [
             0.7,
             "#b8e186"
            ],
            [
             0.8,
             "#7fbc41"
            ],
            [
             0.9,
             "#4d9221"
            ],
            [
             1,
             "#276419"
            ]
           ],
           "sequential": [
            [
             0,
             "#0d0887"
            ],
            [
             0.1111111111111111,
             "#46039f"
            ],
            [
             0.2222222222222222,
             "#7201a8"
            ],
            [
             0.3333333333333333,
             "#9c179e"
            ],
            [
             0.4444444444444444,
             "#bd3786"
            ],
            [
             0.5555555555555556,
             "#d8576b"
            ],
            [
             0.6666666666666666,
             "#ed7953"
            ],
            [
             0.7777777777777778,
             "#fb9f3a"
            ],
            [
             0.8888888888888888,
             "#fdca26"
            ],
            [
             1,
             "#f0f921"
            ]
           ],
           "sequentialminus": [
            [
             0,
             "#0d0887"
            ],
            [
             0.1111111111111111,
             "#46039f"
            ],
            [
             0.2222222222222222,
             "#7201a8"
            ],
            [
             0.3333333333333333,
             "#9c179e"
            ],
            [
             0.4444444444444444,
             "#bd3786"
            ],
            [
             0.5555555555555556,
             "#d8576b"
            ],
            [
             0.6666666666666666,
             "#ed7953"
            ],
            [
             0.7777777777777778,
             "#fb9f3a"
            ],
            [
             0.8888888888888888,
             "#fdca26"
            ],
            [
             1,
             "#f0f921"
            ]
           ]
          },
          "colorway": [
           "#636efa",
           "#EF553B",
           "#00cc96",
           "#ab63fa",
           "#FFA15A",
           "#19d3f3",
           "#FF6692",
           "#B6E880",
           "#FF97FF",
           "#FECB52"
          ],
          "font": {
           "color": "#2a3f5f"
          },
          "geo": {
           "bgcolor": "white",
           "lakecolor": "white",
           "landcolor": "#E5ECF6",
           "showlakes": true,
           "showland": true,
           "subunitcolor": "white"
          },
          "hoverlabel": {
           "align": "left"
          },
          "hovermode": "closest",
          "mapbox": {
           "style": "light"
          },
          "paper_bgcolor": "white",
          "plot_bgcolor": "#E5ECF6",
          "polar": {
           "angularaxis": {
            "gridcolor": "white",
            "linecolor": "white",
            "ticks": ""
           },
           "bgcolor": "#E5ECF6",
           "radialaxis": {
            "gridcolor": "white",
            "linecolor": "white",
            "ticks": ""
           }
          },
          "scene": {
           "xaxis": {
            "backgroundcolor": "#E5ECF6",
            "gridcolor": "white",
            "gridwidth": 2,
            "linecolor": "white",
            "showbackground": true,
            "ticks": "",
            "zerolinecolor": "white"
           },
           "yaxis": {
            "backgroundcolor": "#E5ECF6",
            "gridcolor": "white",
            "gridwidth": 2,
            "linecolor": "white",
            "showbackground": true,
            "ticks": "",
            "zerolinecolor": "white"
           },
           "zaxis": {
            "backgroundcolor": "#E5ECF6",
            "gridcolor": "white",
            "gridwidth": 2,
            "linecolor": "white",
            "showbackground": true,
            "ticks": "",
            "zerolinecolor": "white"
           }
          },
          "shapedefaults": {
           "line": {
            "color": "#2a3f5f"
           }
          },
          "ternary": {
           "aaxis": {
            "gridcolor": "white",
            "linecolor": "white",
            "ticks": ""
           },
           "baxis": {
            "gridcolor": "white",
            "linecolor": "white",
            "ticks": ""
           },
           "bgcolor": "#E5ECF6",
           "caxis": {
            "gridcolor": "white",
            "linecolor": "white",
            "ticks": ""
           }
          },
          "title": {
           "x": 0.05
          },
          "xaxis": {
           "automargin": true,
           "gridcolor": "white",
           "linecolor": "white",
           "ticks": "",
           "title": {
            "standoff": 15
           },
           "zerolinecolor": "white",
           "zerolinewidth": 2
          },
          "yaxis": {
           "automargin": true,
           "gridcolor": "white",
           "linecolor": "white",
           "ticks": "",
           "title": {
            "standoff": 15
           },
           "zerolinecolor": "white",
           "zerolinewidth": 2
          }
         }
        },
        "title": {
         "text": "Distribution of Bids per Auction"
        },
        "xaxis": {
         "title": {
          "text": "Amount of Auctions"
         }
        },
        "yaxis": {
         "title": {
          "text": "Bids Received by Auction"
         }
        }
       }
      },
      "text/html": [
       "<div>                            <div id=\"46b4c221-35f0-480b-8b2d-ce6fbf3d8b6d\" class=\"plotly-graph-div\" style=\"height:525px; width:100%;\"></div>            <script type=\"text/javascript\">                require([\"plotly\"], function(Plotly) {                    window.PLOTLYENV=window.PLOTLYENV || {};                                    if (document.getElementById(\"46b4c221-35f0-480b-8b2d-ce6fbf3d8b6d\")) {                    Plotly.newPlot(                        \"46b4c221-35f0-480b-8b2d-ce6fbf3d8b6d\",                        [{\"x\":[9,9,3,9,11,6,8,5,8,23,10,6,6,12,13,8,17,2,3,7,5,10,6,7,20,3,8,5,16,3,6,5,6,5,9,6,4,7,8,5,5,4,2,2,7,11,17,10,8,3,8,8,8,6,6,9,9,6,7,6,9,5,9,3,6,5,10,19,6,11,6,8,3,4,7,12,6,8,10,6,5,7,24,7,2,6,9,14,2,6,7,5,4,10,8,2,7,3,8,5,9,7,9,6,7,7,6,18,4,6,9,6,6,7,3,11,11,3,7,7,18,5,9,14,6,5,5,10,13,12,5,4,11,8,7,5,13,5,6,5,6,8,5,4,5,2,14,7,7,3,6,3,5,3,3,5,7,4,4,4,7,1,8,8,9,7,11,10,5,12,4,12,5,14,8,7,10,7,12,8,13,7,5,6,5,7,11,13,5,8,3,10,2,4,3,1,4,7,5,9,12,4,7,11,5,19,5,14,20,9,26,12,13,9,8,5,10,4,4,7,11,3,5,6,5,20,6,7,11,4,7,6,7,4,5,4,3,5,15,5,24,6,4,15,3,6,4,9,5,8,7,9,3,4,6,8,4,4,10,6,3,4,14,5,3,16,11,13,7,5,11,7,4,17,11,14,5,6,9,9,12,13,14,6,7,15,7,6,22,7,5,10,11,8,16,3,5,2,7,7,5,5,4,3,13,7,20,10,6,4,14,13,7,4,10,12,5,11,9,5,6,5,6,10,9,12,5,10,14,8,5,5,16,12,3,13,10,10,5,9,6,9,4,9,4,5,9,6,4,14,5,13,5,7,4,5,6,11,11,12,9,4,2,9,22,6,8,5,13,5,8,7,10,3,6,10,5,9,12,13,10,9,16,4,8,11,7,7,15,4,9,4,4,8,4,6,4,4,13,15,5,3,9,6,6,9,10,9,6,4,5,9,13,7,3,6,3,6,14,9,8,6,2,9,5,6,3,18,3,10,13,4,7,7,14,4,11,4,5,7,6,7,4,4,8,10,10,8,10,6,3,9,5,8,17,10,6,2,9,3,8,3,13,14,4,14,16,13,5,7,6,10,9,5,6,3,2,11,14,3,9,4,5,10,7,15,5,5,4,6,6,3,4,5,4,5,3,4,10,5,3,8,3,3,2,3,7,7,5,6,9,2,11,12,10,6,7,19,3,8,5,8,5,4,14,7,8,5,12,3,2,8,8,7,6,5,4,23,11,13,7,19,5,16,2,12,5,2,3,5,5,4,15,5,8,7,3,5,2,9,6,8,12,5,12,7,4,2,4,14,15,7,14,10,6,12,6,6,10,6,4,9,13,1,4,18,4,9,9,7,5,4,10,13,7,8,6,5,11,9,9,4,3,6,10,8,20,12,7,16,11,4,22,5,6,26,7,6,15,5,8,12,16,4,3,4,3,10,10,12,4,8,4,4,9,17,11,8,7,5,7,2,19,1,6,3,5,21,6,4,15,5,14,5,5,18,10,9,12,12,5,5,5,6,10,9,10,12,5,13,3,6,6,16,5,10,4,2,9,4,6,5,3,12,7,3,7,3,14,20,2,10,10,11,3,7,4,8,5,9,13,19,2,11,16,8,6,21,7,5,17,20,2,3,3,10,13,4,8,5,4,7,4,3,5,3,13,17,12,5,5,7,3,6,10,7,6,12,8,15,6,4,5,10,1,9,2,4,7,10,3,12,6,15,7,4,12,7,9,9,5,4,17,7,9,5,15,10,4,5,6,9,4,13,6,7,7,4,11,6,10,21,7,14,3,7,8,9,2,14,10,21,5,8,23,6,4,4,11,11,10,3,4,14,6,7,3],\"xbins\":{\"size\":1},\"type\":\"histogram\"}],                        {\"template\":{\"data\":{\"histogram2dcontour\":[{\"type\":\"histogram2dcontour\",\"colorbar\":{\"outlinewidth\":0,\"ticks\":\"\"},\"colorscale\":[[0.0,\"#0d0887\"],[0.1111111111111111,\"#46039f\"],[0.2222222222222222,\"#7201a8\"],[0.3333333333333333,\"#9c179e\"],[0.4444444444444444,\"#bd3786\"],[0.5555555555555556,\"#d8576b\"],[0.6666666666666666,\"#ed7953\"],[0.7777777777777778,\"#fb9f3a\"],[0.8888888888888888,\"#fdca26\"],[1.0,\"#f0f921\"]]}],\"choropleth\":[{\"type\":\"choropleth\",\"colorbar\":{\"outlinewidth\":0,\"ticks\":\"\"}}],\"histogram2d\":[{\"type\":\"histogram2d\",\"colorbar\":{\"outlinewidth\":0,\"ticks\":\"\"},\"colorscale\":[[0.0,\"#0d0887\"],[0.1111111111111111,\"#46039f\"],[0.2222222222222222,\"#7201a8\"],[0.3333333333333333,\"#9c179e\"],[0.4444444444444444,\"#bd3786\"],[0.5555555555555556,\"#d8576b\"],[0.6666666666666666,\"#ed7953\"],[0.7777777777777778,\"#fb9f3a\"],[0.8888888888888888,\"#fdca26\"],[1.0,\"#f0f921\"]]}],\"heatmap\":[{\"type\":\"heatmap\",\"colorbar\":{\"outlinewidth\":0,\"ticks\":\"\"},\"colorscale\":[[0.0,\"#0d0887\"],[0.1111111111111111,\"#46039f\"],[0.2222222222222222,\"#7201a8\"],[0.3333333333333333,\"#9c179e\"],[0.4444444444444444,\"#bd3786\"],[0.5555555555555556,\"#d8576b\"],[0.6666666666666666,\"#ed7953\"],[0.7777777777777778,\"#fb9f3a\"],[0.8888888888888888,\"#fdca26\"],[1.0,\"#f0f921\"]]}],\"heatmapgl\":[{\"type\":\"heatmapgl\",\"colorbar\":{\"outlinewidth\":0,\"ticks\":\"\"},\"colorscale\":[[0.0,\"#0d0887\"],[0.1111111111111111,\"#46039f\"],[0.2222222222222222,\"#7201a8\"],[0.3333333333333333,\"#9c179e\"],[0.4444444444444444,\"#bd3786\"],[0.5555555555555556,\"#d8576b\"],[0.6666666666666666,\"#ed7953\"],[0.7777777777777778,\"#fb9f3a\"],[0.8888888888888888,\"#fdca26\"],[1.0,\"#f0f921\"]]}],\"contourcarpet\":[{\"type\":\"contourcarpet\",\"colorbar\":{\"outlinewidth\":0,\"ticks\":\"\"}}],\"contour\":[{\"type\":\"contour\",\"colorbar\":{\"outlinewidth\":0,\"ticks\":\"\"},\"colorscale\":[[0.0,\"#0d0887\"],[0.1111111111111111,\"#46039f\"],[0.2222222222222222,\"#7201a8\"],[0.3333333333333333,\"#9c179e\"],[0.4444444444444444,\"#bd3786\"],[0.5555555555555556,\"#d8576b\"],[0.6666666666666666,\"#ed7953\"],[0.7777777777777778,\"#fb9f3a\"],[0.8888888888888888,\"#fdca26\"],[1.0,\"#f0f921\"]]}],\"surface\":[{\"type\":\"surface\",\"colorbar\":{\"outlinewidth\":0,\"ticks\":\"\"},\"colorscale\":[[0.0,\"#0d0887\"],[0.1111111111111111,\"#46039f\"],[0.2222222222222222,\"#7201a8\"],[0.3333333333333333,\"#9c179e\"],[0.4444444444444444,\"#bd3786\"],[0.5555555555555556,\"#d8576b\"],[0.6666666666666666,\"#ed7953\"],[0.7777777777777778,\"#fb9f3a\"],[0.8888888888888888,\"#fdca26\"],[1.0,\"#f0f921\"]]}],\"mesh3d\":[{\"type\":\"mesh3d\",\"colorbar\":{\"outlinewidth\":0,\"ticks\":\"\"}}],\"scatter\":[{\"fillpattern\":{\"fillmode\":\"overlay\",\"size\":10,\"solidity\":0.2},\"type\":\"scatter\"}],\"parcoords\":[{\"type\":\"parcoords\",\"line\":{\"colorbar\":{\"outlinewidth\":0,\"ticks\":\"\"}}}],\"scatterpolargl\":[{\"type\":\"scatterpolargl\",\"marker\":{\"colorbar\":{\"outlinewidth\":0,\"ticks\":\"\"}}}],\"bar\":[{\"error_x\":{\"color\":\"#2a3f5f\"},\"error_y\":{\"color\":\"#2a3f5f\"},\"marker\":{\"line\":{\"color\":\"#E5ECF6\",\"width\":0.5},\"pattern\":{\"fillmode\":\"overlay\",\"size\":10,\"solidity\":0.2}},\"type\":\"bar\"}],\"scattergeo\":[{\"type\":\"scattergeo\",\"marker\":{\"colorbar\":{\"outlinewidth\":0,\"ticks\":\"\"}}}],\"scatterpolar\":[{\"type\":\"scatterpolar\",\"marker\":{\"colorbar\":{\"outlinewidth\":0,\"ticks\":\"\"}}}],\"histogram\":[{\"marker\":{\"pattern\":{\"fillmode\":\"overlay\",\"size\":10,\"solidity\":0.2}},\"type\":\"histogram\"}],\"scattergl\":[{\"type\":\"scattergl\",\"marker\":{\"colorbar\":{\"outlinewidth\":0,\"ticks\":\"\"}}}],\"scatter3d\":[{\"type\":\"scatter3d\",\"line\":{\"colorbar\":{\"outlinewidth\":0,\"ticks\":\"\"}},\"marker\":{\"colorbar\":{\"outlinewidth\":0,\"ticks\":\"\"}}}],\"scattermapbox\":[{\"type\":\"scattermapbox\",\"marker\":{\"colorbar\":{\"outlinewidth\":0,\"ticks\":\"\"}}}],\"scatterternary\":[{\"type\":\"scatterternary\",\"marker\":{\"colorbar\":{\"outlinewidth\":0,\"ticks\":\"\"}}}],\"scattercarpet\":[{\"type\":\"scattercarpet\",\"marker\":{\"colorbar\":{\"outlinewidth\":0,\"ticks\":\"\"}}}],\"carpet\":[{\"aaxis\":{\"endlinecolor\":\"#2a3f5f\",\"gridcolor\":\"white\",\"linecolor\":\"white\",\"minorgridcolor\":\"white\",\"startlinecolor\":\"#2a3f5f\"},\"baxis\":{\"endlinecolor\":\"#2a3f5f\",\"gridcolor\":\"white\",\"linecolor\":\"white\",\"minorgridcolor\":\"white\",\"startlinecolor\":\"#2a3f5f\"},\"type\":\"carpet\"}],\"table\":[{\"cells\":{\"fill\":{\"color\":\"#EBF0F8\"},\"line\":{\"color\":\"white\"}},\"header\":{\"fill\":{\"color\":\"#C8D4E3\"},\"line\":{\"color\":\"white\"}},\"type\":\"table\"}],\"barpolar\":[{\"marker\":{\"line\":{\"color\":\"#E5ECF6\",\"width\":0.5},\"pattern\":{\"fillmode\":\"overlay\",\"size\":10,\"solidity\":0.2}},\"type\":\"barpolar\"}],\"pie\":[{\"automargin\":true,\"type\":\"pie\"}]},\"layout\":{\"autotypenumbers\":\"strict\",\"colorway\":[\"#636efa\",\"#EF553B\",\"#00cc96\",\"#ab63fa\",\"#FFA15A\",\"#19d3f3\",\"#FF6692\",\"#B6E880\",\"#FF97FF\",\"#FECB52\"],\"font\":{\"color\":\"#2a3f5f\"},\"hovermode\":\"closest\",\"hoverlabel\":{\"align\":\"left\"},\"paper_bgcolor\":\"white\",\"plot_bgcolor\":\"#E5ECF6\",\"polar\":{\"bgcolor\":\"#E5ECF6\",\"angularaxis\":{\"gridcolor\":\"white\",\"linecolor\":\"white\",\"ticks\":\"\"},\"radialaxis\":{\"gridcolor\":\"white\",\"linecolor\":\"white\",\"ticks\":\"\"}},\"ternary\":{\"bgcolor\":\"#E5ECF6\",\"aaxis\":{\"gridcolor\":\"white\",\"linecolor\":\"white\",\"ticks\":\"\"},\"baxis\":{\"gridcolor\":\"white\",\"linecolor\":\"white\",\"ticks\":\"\"},\"caxis\":{\"gridcolor\":\"white\",\"linecolor\":\"white\",\"ticks\":\"\"}},\"coloraxis\":{\"colorbar\":{\"outlinewidth\":0,\"ticks\":\"\"}},\"colorscale\":{\"sequential\":[[0.0,\"#0d0887\"],[0.1111111111111111,\"#46039f\"],[0.2222222222222222,\"#7201a8\"],[0.3333333333333333,\"#9c179e\"],[0.4444444444444444,\"#bd3786\"],[0.5555555555555556,\"#d8576b\"],[0.6666666666666666,\"#ed7953\"],[0.7777777777777778,\"#fb9f3a\"],[0.8888888888888888,\"#fdca26\"],[1.0,\"#f0f921\"]],\"sequentialminus\":[[0.0,\"#0d0887\"],[0.1111111111111111,\"#46039f\"],[0.2222222222222222,\"#7201a8\"],[0.3333333333333333,\"#9c179e\"],[0.4444444444444444,\"#bd3786\"],[0.5555555555555556,\"#d8576b\"],[0.6666666666666666,\"#ed7953\"],[0.7777777777777778,\"#fb9f3a\"],[0.8888888888888888,\"#fdca26\"],[1.0,\"#f0f921\"]],\"diverging\":[[0,\"#8e0152\"],[0.1,\"#c51b7d\"],[0.2,\"#de77ae\"],[0.3,\"#f1b6da\"],[0.4,\"#fde0ef\"],[0.5,\"#f7f7f7\"],[0.6,\"#e6f5d0\"],[0.7,\"#b8e186\"],[0.8,\"#7fbc41\"],[0.9,\"#4d9221\"],[1,\"#276419\"]]},\"xaxis\":{\"gridcolor\":\"white\",\"linecolor\":\"white\",\"ticks\":\"\",\"title\":{\"standoff\":15},\"zerolinecolor\":\"white\",\"automargin\":true,\"zerolinewidth\":2},\"yaxis\":{\"gridcolor\":\"white\",\"linecolor\":\"white\",\"ticks\":\"\",\"title\":{\"standoff\":15},\"zerolinecolor\":\"white\",\"automargin\":true,\"zerolinewidth\":2},\"scene\":{\"xaxis\":{\"backgroundcolor\":\"#E5ECF6\",\"gridcolor\":\"white\",\"linecolor\":\"white\",\"showbackground\":true,\"ticks\":\"\",\"zerolinecolor\":\"white\",\"gridwidth\":2},\"yaxis\":{\"backgroundcolor\":\"#E5ECF6\",\"gridcolor\":\"white\",\"linecolor\":\"white\",\"showbackground\":true,\"ticks\":\"\",\"zerolinecolor\":\"white\",\"gridwidth\":2},\"zaxis\":{\"backgroundcolor\":\"#E5ECF6\",\"gridcolor\":\"white\",\"linecolor\":\"white\",\"showbackground\":true,\"ticks\":\"\",\"zerolinecolor\":\"white\",\"gridwidth\":2}},\"shapedefaults\":{\"line\":{\"color\":\"#2a3f5f\"}},\"annotationdefaults\":{\"arrowcolor\":\"#2a3f5f\",\"arrowhead\":0,\"arrowwidth\":1},\"geo\":{\"bgcolor\":\"white\",\"landcolor\":\"#E5ECF6\",\"subunitcolor\":\"white\",\"showland\":true,\"showlakes\":true,\"lakecolor\":\"white\"},\"title\":{\"x\":0.05},\"mapbox\":{\"style\":\"light\"}}},\"title\":{\"text\":\"Distribution of Bids per Auction\"},\"xaxis\":{\"title\":{\"text\":\"Amount of Auctions\"}},\"yaxis\":{\"title\":{\"text\":\"Bids Received by Auction\"}},\"bargap\":0.1},                        {\"responsive\": true}                    ).then(function(){\n",
       "                            \n",
       "var gd = document.getElementById('46b4c221-35f0-480b-8b2d-ce6fbf3d8b6d');\n",
       "var x = new MutationObserver(function (mutations, observer) {{\n",
       "        var display = window.getComputedStyle(gd).display;\n",
       "        if (!display || display === 'none') {{\n",
       "            console.log([gd, 'removed!']);\n",
       "            Plotly.purge(gd);\n",
       "            observer.disconnect();\n",
       "        }}\n",
       "}});\n",
       "\n",
       "// Listen for the removal of the full notebook cells\n",
       "var notebookContainer = gd.closest('#notebook-container');\n",
       "if (notebookContainer) {{\n",
       "    x.observe(notebookContainer, {childList: true});\n",
       "}}\n",
       "\n",
       "// Listen for the clearing of the current output cell\n",
       "var outputEl = gd.closest('.output');\n",
       "if (outputEl) {{\n",
       "    x.observe(outputEl, {childList: true});\n",
       "}}\n",
       "\n",
       "                        })                };                });            </script>        </div>"
      ]
     },
     "metadata": {},
     "output_type": "display_data"
    }
   ],
   "source": [
    "# calculating amount of bids/records for each Auction_ID\n",
    "bids_per_auction = df.pivot_table(index='Auction_ID', values='Record_ID', aggfunc='count')\n",
    "\n",
    "fig = go.Figure(data=[go.Histogram(\n",
    "    x=bids_per_auction['Record_ID'],\n",
    "    xbins=dict(size=1)\n",
    ")])\n",
    "\n",
    "fig.update_layout(\n",
    "    title='Distribution of Bids per Auction',\n",
    "    xaxis=dict(title='Amount of Auctions'),\n",
    "    yaxis=dict(title='Bids Received by Auction'),\n",
    "    bargap=0.1\n",
    ")\n",
    "\n",
    "fig.show()"
   ]
  },
  {
   "cell_type": "code",
   "execution_count": 67,
   "id": "cec102bf",
   "metadata": {},
   "outputs": [
    {
     "name": "stdout",
     "output_type": "stream",
     "text": [
      "Normal      0.890371\n",
      "Abnormal    0.109629\n",
      "Name: Class, dtype: float64\n"
     ]
    }
   ],
   "source": [
    "target = 'Class'\n",
    "X = df.drop([target, 'Record_ID', 'Auction_ID', 'Bidder_ID'], axis=1)\n",
    "y = df[target]\n",
    "\n",
    "# splitting data into train and test sets\n",
    "X_train_u, X_test, y_train_u, y_test = train_test_split(X, y, test_size=0.3, random_state=42)\n",
    "\n",
    "class_names = {0:'Normal', 1:'Abnormal'}\n",
    "print(y_train_u.value_counts(normalize=True).rename(index=class_names))"
   ]
  },
  {
   "cell_type": "code",
   "execution_count": 68,
   "id": "3365669a",
   "metadata": {},
   "outputs": [
    {
     "data": {
      "text/plain": [
       "[(4424, 9), (4424,), (1897, 9), (1897,)]"
      ]
     },
     "execution_count": 68,
     "metadata": {},
     "output_type": "execute_result"
    }
   ],
   "source": [
    "[\n",
    "    X_train_u.shape, y_train_u.shape, \n",
    "    X_test.shape, y_test.shape\n",
    "]\n"
   ]
  },
  {
   "cell_type": "code",
   "execution_count": 69,
   "id": "e288d2cd",
   "metadata": {},
   "outputs": [
    {
     "name": "stdout",
     "output_type": "stream",
     "text": [
      "Normal      0.5\n",
      "Abnormal    0.5\n",
      "Name: Class, dtype: float64\n",
      "[(970, 9), (970,)]\n"
     ]
    }
   ],
   "source": [
    "# balancing data \n",
    "balancing = RandomUnderSampler(random_state=42)\n",
    "\n",
    "X_train, y_train = balancing.fit_resample(X_train_u, y_train_u)\n",
    "\n",
    "# class_names = {0:'Non Sev Slug', 1:'SEV SLUGGING'}\n",
    "print(y_train.value_counts(normalize=True).rename(index=class_names))\n",
    "print([X_train.shape, y_train.shape])"
   ]
  },
  {
   "cell_type": "code",
   "execution_count": 75,
   "id": "52be8c51",
   "metadata": {},
   "outputs": [],
   "source": [
    "df_clean = df.copy()\n",
    "df_clean = df_clean.drop(['Record_ID', 'Auction_ID', 'Bidder_ID'], axis=1)"
   ]
  },
  {
   "cell_type": "code",
   "execution_count": 76,
   "id": "0a4df58a",
   "metadata": {},
   "outputs": [
    {
     "data": {
      "image/png": "[encoded data removed]",
      "text/plain": [
       "<Figure size 900x400 with 4 Axes>"
      ]
     },
     "metadata": {},
     "output_type": "display_data"
    }
   ],
   "source": [
    "# Computing the correlations from imbalanced data set\n",
    "corr_before_sampling = df_clean.corr()\n",
    "\n",
    "# Creating a boolean mask for the upper triangle\n",
    "mask = np.triu(np.ones_like(corr_before_sampling, dtype=bool))\n",
    "\n",
    "# Plotting the heatmap with the mask\n",
    "fig, (ax1, ax2) = plt.subplots(1, 2, figsize=(9, 4))\n",
    "sns.set(font_scale=0.6)\n",
    "\n",
    "sns.heatmap(\n",
    "    corr_before_sampling, annot=True, mask=mask, ax=ax1, fmt='.2f', \n",
    "    cmap='RdBu_r', vmin=-1, vmax=1\n",
    ")\n",
    "\n",
    "ax1.set_title('Imbalanced Dataset')\n",
    "\n",
    "\n",
    "\n",
    "# Computing the correlations using X_train and y_train\n",
    "train_df = pd.concat([X_train, y_train], axis=1)\n",
    "corr_after_sampling = train_df.corr()\n",
    "\n",
    "# Creating a boolean mask for the upper triangle\n",
    "mask = np.triu(np.ones_like(corr_after_sampling, dtype=bool))\n",
    "\n",
    "# Plotting the heatmap with the mask\n",
    "sns.heatmap(\n",
    "    corr_after_sampling, annot=True, mask=mask, ax=ax2, fmt='.2f', \n",
    "    cmap='RdBu_r', vmin=-1, vmax=1, yticklabels=False\n",
    ")\n",
    "\n",
    "ax2.set_title('Balanced Dataset')\n",
    "\n",
    "\n",
    "# Add space between the two charts\n",
    "plt.subplots_adjust(wspace=0.2)\n",
    "\n",
    "plt.show()\n",
    "\n",
    "del train_df\n"
   ]
  },
  {
   "cell_type": "code",
   "execution_count": null,
   "id": "e646efce",
   "metadata": {},
   "outputs": [],
   "source": [
    "# Perform a clustering visualisation using a library of your choice. \n",
    "# Justify your selection and identify interesting features in the graph.[0-20]"
   ]
  },
  {
   "cell_type": "code",
   "execution_count": null,
   "id": "94a576b8",
   "metadata": {},
   "outputs": [],
   "source": [
    "# Create at least two interactive plots based on the data. \n",
    "# Justify the functionality, design, colour selection and any other details that you deem important.[0-20]"
   ]
  },
  {
   "cell_type": "code",
   "execution_count": null,
   "id": "50232029",
   "metadata": {},
   "outputs": [],
   "source": [
    "# Create a Dashboard using a library of your choice that encompasses at least 2 of your visualizations [0-30]"
   ]
  }
 ],
 "metadata": {
  "kernelspec": {
   "display_name": "Python 3 (ipykernel)",
   "language": "python",
   "name": "python3"
  },
  "language_info": {
   "codemirror_mode": {
    "name": "ipython",
    "version": 3
   },
   "file_extension": ".py",
   "mimetype": "text/x-python",
   "name": "python",
   "nbconvert_exporter": "python",
   "pygments_lexer": "ipython3",
   "version": "3.9.15"
  }
 },
 "nbformat": 4,
 "nbformat_minor": 5
}
